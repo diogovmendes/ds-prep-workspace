{
 "cells": [
  {
   "attachments": {},
   "cell_type": "markdown",
   "id": "6e533e7d-c4b5-4485-81c3-e96c21f4cb8a",
   "metadata": {},
   "source": [
    "# SLU06 - Git Intermediate\n",
    "\n",
    "In SLU03, we got acquainted with the way Git and other Version Control Systems (VCS) operate and learned the basic workflow to store and track changes in local and remote repositories. Recall the Git universe and the basic commands which make the data flow between the different parts of it:"
   ]
  },
  {
   "cell_type": "markdown",
   "id": "bound-vinyl",
   "metadata": {},
   "source": [
    "<img width=\"700\" src=\"media/01_git_flow.png\"/>"
   ]
  },
  {
   "cell_type": "markdown",
   "id": "starting-offering",
   "metadata": {},
   "source": [
    "As a refresher (*and totally copied from SLU03*)...\n",
    "\n",
    ">  _The local repository is the “container” that tracks the changes to your project files. It holds all the commits — a snapshot of all your files at a point in time — that have been made._\n",
    ">\n",
    ">  _The workspace consists of files that you are currently working on. You can think of the workspace as a file system where you can view and modify files._\n",
    ">\n",
    ">  _The staging area is where commits are prepared. The index compares the files in the workspace to the files in the local repository. When you make a change in the workspace, the index marks the file as \"modified\" before it is committed._\n",
    "\n",
    "We briefly covered the remote repository, and how to communicate with it through the `git pull` and `git push` commands allowing us to incorporate changes from the remote repository into our workspace and to update the remote repository with our changes, respectively. \n",
    "\n",
    "In this SLU we'll dive deeper into the remote repository and how to make the most out of it. *Get ready!* "
   ]
  },
  {
   "attachments": {},
   "cell_type": "markdown",
   "id": "3377cdef-5994-4eba-9557-40cc0071cb09",
   "metadata": {},
   "source": [
    "## 1. The remote repository\n",
    "The remote repository (also called *remote*) holds the version history of your project, basically a mirror of your local repository, and is hosted somewhere on a server that you can reach over the network. You can have several remote repositories and collaborating with others involves managing these remote repositories and pushing and pulling data to and from them when you need to share work."
   ]
  },
  {
   "cell_type": "markdown",
   "id": "annoying-consolidation",
   "metadata": {},
   "source": [
    "<img width=\"700\" src=\"media/02_git_remote.png\"/>"
   ]
  },
  {
   "cell_type": "markdown",
   "id": "annual-moral",
   "metadata": {},
   "source": [
    "Managing remote repositories includes knowing how to add remote repositories, remove the ones that are no longer valid, manage various remote branches and define them as being tracked or not (what the heck are branches, you ask? You'll see!), and more.\n",
    "\n",
    "Most of the work you need to do related to version control happens in your local repository: staging, committing, viewing the status, viewing logs, and so on.\n",
    "\n",
    "The main advantage of a remote repository is that is allows collaboration with other developers. All developers work in their local repository, make modifications, and commit them locally. These changes are then uploaded to the remote repository to share with others and integrate with changes made by others."
   ]
  },
  {
   "attachments": {},
   "cell_type": "markdown",
   "id": "f214ea0b-ca03-4264-82a7-c882eb6d3ca0",
   "metadata": {},
   "source": [
    "### 1.1 Cloning a repository\n",
    "\n",
    "You are probably wondering: *\"Isn't this what I did at the beginning of this course!?\"*. The answer? *Yes!*\n",
    "\n",
    "You already created a remote repository and cloned it to your local machine when you followed [these instructions](https://github.com/LDSSA/ds-prep-course-2025/blob/main/docs/github.md#32-setup-your-workspace-repository).\n",
    "\n",
    "You can check which remote repositories you have configured by using the command `git remote`. If you run that command inside your `ds-prep-workspace` you should see something like this:"
   ]
  },
  {
   "cell_type": "markdown",
   "id": "burning-amendment",
   "metadata": {},
   "source": [
    "<img width=\"700\" src=\"media/03_git_remote.png\"/>"
   ]
  },
  {
   "cell_type": "markdown",
   "id": "sexual-diesel",
   "metadata": {},
   "source": [
    "The name `origin` is the default name Git gives to the server you cloned from.\n",
    "\n",
    "If you do `git remote -v` (for *verbose*), it includes the URL of each connection."
   ]
  },
  {
   "cell_type": "markdown",
   "id": "indonesian-quantity",
   "metadata": {},
   "source": [
    "<img width=\"700\" src=\"media/04_git_remote_v.png\"/>"
   ]
  },
  {
   "cell_type": "markdown",
   "id": "pleasant-allowance",
   "metadata": {},
   "source": [
    "As you remember from SLU03 - Git basics:\n",
    "- the `git pull` command  is used to fetch and download content from a remote repository and immediately update the local repository to match that content\n",
    "- the `git push` command is used to upload local repository content to a remote repository\n",
    "\n",
    "With the `git remote -v` command you can see what URLs git is using to make the connection to the remote repository for these operations.\n",
    "\n",
    "Another important command covered in SLU03 was `git status` (*hands down the most used git command in all the land!*). This command lets you see the status of your workspace and staging area files. \n",
    "\n",
    "Here's the status of the repository of the instructor who worked on these learning materials in 2022:"
   ]
  },
  {
   "cell_type": "markdown",
   "id": "2b94ab56",
   "metadata": {},
   "source": [
    "<img width=\"700\" src=\"media/05_git_status.png\"/>"
   ]
  },
  {
   "cell_type": "markdown",
   "id": "dominant-church",
   "metadata": {},
   "source": [
    "The `git status` command is super fast and you can use it offline, meaning you don't need to have an active network connection to use it. This is possible because you are checking the status of your local Git repository and don't need to communicate with the remote repository for it.\n",
    "\n",
    "One simple way to know if your local repo is out of date in comparison to the remote repository is to use the command `git remote show origin`. To update it, the `git pull` command is your friend!"
   ]
  },
  {
   "attachments": {},
   "cell_type": "markdown",
   "id": "c6b337e6-5a64-4783-9b1f-847ccadb8a19",
   "metadata": {},
   "source": [
    "### 1.2 Stash changes\n",
    "\n",
    "You already know how to save changes permanently in the repository using the trusty `git commit` command. Now imagine the following (hypothetical) situation:\n",
    "\n",
    "You are midway through the development of Feature-X. Your code is a complete tangled mess.  \n",
    "Your manager enters the room asking you to solve BUG-XPTO. The development of Feature-X is completely unrelated to BUG-XPTO.  \n",
    "You surely cannot commit, or you'll be ridiculed by your colleagues and never be asked to play darts again! So, what do you do?\n",
    "\n",
    "This is where `git stash` comes to the rescue! As I have read somewhere: *stash is like a clipboard on steroids!* ;) "
   ]
  },
  {
   "cell_type": "markdown",
   "id": "derived-registration",
   "metadata": {},
   "source": [
    "<img width=\"250\" src=\"media/06_keep_calm_git_stash.png\"/>"
   ]
  },
  {
   "cell_type": "markdown",
   "id": "9f5a3ea0-dc32-4578-8762-59fdd53222ca",
   "metadata": {},
   "source": [
    "`git stash` saves all your staged and unstaged files (if you want to include untracked files you must add the `-u` or `--include-untracked` option) and saves them. You are left with a repository in the same state as when you committed your latest changes.\n",
    "\n",
    "Let's look at an example. This is the status of the local instructors repo looks like after adding a few changes:"
   ]
  },
  {
   "cell_type": "markdown",
   "id": "eaeca954-589c-4dcb-83a5-d75d16648d77",
   "metadata": {},
   "source": [
    "<img width=\"700\" src=\"media/07_git_status_before_stash.png\"/>"
   ]
  },
  {
   "cell_type": "markdown",
   "id": "standing-population",
   "metadata": {},
   "source": [
    "As you can see, there are different files/folders with different status:\n",
    "- The first one is already added to the local repo with the \"git add\" command. *(Changes to be committed)*\n",
    "- The second one was already added to the local repository but has been modified since then. *(Changes not staged for commit)*\n",
    "- The last one has never been added to the local repository. *(Untracked files)*\n",
    "\n",
    "Since there are untracked files (the last one), we can stash them using the `-u` option."
   ]
  },
  {
   "cell_type": "markdown",
   "id": "b2f572e4",
   "metadata": {},
   "source": [
    "<img width=\"700\" src=\"media/08_git_stash.png\"/>"
   ]
  },
  {
   "cell_type": "markdown",
   "id": "eight-subscription",
   "metadata": {},
   "source": [
    "Notice how the result of stash identifies the latest commit of your local repo and how the status shows that there is nothing to commit? *It's magic!* \n",
    "\n",
    "*But now how do I get my work back?!*\n",
    "\n",
    "To get the changes out of your stash, you use the command `git stash pop`. The changes you stashed will be removed from the stash and applied to your local repository again. *Super duper awesome magic!*"
   ]
  },
  {
   "cell_type": "markdown",
   "id": "19bd563f",
   "metadata": {},
   "source": [
    "<img width=\"700\" src=\"media/09_git_stash_pop.png\"/>"
   ]
  },
  {
   "cell_type": "markdown",
   "id": "81ba619b",
   "metadata": {},
   "source": [
    "You can store multiple stashes, do partial stashes, *pop* specific stashes, and much more. But this is outside the scope of this SLU. What you've learned should be enough to keep you out of trouble (*I hope so!*) :)"
   ]
  },
  {
   "attachments": {},
   "cell_type": "markdown",
   "id": "b10d616f-03c3-4cfb-a10c-51ba7cf39a5e",
   "metadata": {},
   "source": [
    "## 2. Git branches\n",
    "\n",
    "Now we reached the scariest bit, but the most powerful one of git. The wonderful world of BRANCHES!! Woohoo! *Party everywhere!* \n",
    "\n",
    "What the heck is it, you ask? Well... In simple terms, a branch is a parallel version of the code that can be modified without affecting the other versions. This is extremely useful for collaborative work, to introduce new features, for anything really... Branches are cool. *Trust me.* \n",
    "\n",
    "Branching in Git is fast and easy and is strongly (!!!!!!!) encouraged."
   ]
  },
  {
   "attachments": {},
   "cell_type": "markdown",
   "id": "fb85e860-d22a-4953-94b2-f5946b93685b",
   "metadata": {},
   "source": [
    "### 2.1 The main branch\n",
    "\n",
    "The main branch in git is called **main** (*surprising, I know*) although until very recently it used to be called **master** - this nomenclature is still currently used. The main branch is created by Git when you create the repository. \n",
    "\n",
    "All the changes you do in the other branches should, sooner or later, be integrated (called *merging* in git) into the **main** branch. \n",
    "When you work on a new feature or fix a bug, you create a new branch to isolate your changes. This makes it harder for unstable code to find its way to the main codebase. If this is true for a single person, imagine working on a team where teammates are working on the same codebase (a.k.a. repository) but on different features or bug fixes. Life would be extremely hard without branching.\n",
    "\n",
    "When you start a new repository, you, by default, are in the **main** branch (or **master** on older repositories). All your pushes are going to this branch and you don't need to specify it."
   ]
  },
  {
   "cell_type": "markdown",
   "id": "subsequent-isolation",
   "metadata": {},
   "source": [
    "<img width=\"700\" src=\"media/10_master_branch.svg\"/>"
   ]
  },
  {
   "cell_type": "markdown",
   "id": "amino-march",
   "metadata": {},
   "source": [
    "When you create a new branch, let's say for a *crazy experiment*, you are creating a copy of your main branch at that time."
   ]
  },
  {
   "cell_type": "markdown",
   "id": "prime-finance",
   "metadata": {},
   "source": [
    "<img width=\"700\" src=\"media/11_crazy_experiment_branch.svg\"/>"
   ]
  },
  {
   "cell_type": "markdown",
   "id": "authentic-punishment",
   "metadata": {},
   "source": [
    "As you continue your development, the two branches will continue to co-exist on their own, independently of each other until you purposefully merge them together (coming soon!). This process can be repeated *indefinitely*."
   ]
  },
  {
   "cell_type": "markdown",
   "id": "creative-malta",
   "metadata": {},
   "source": [
    "<img width=\"400\" src=\"media/12_branchs_coexisting.png\"/>"
   ]
  },
  {
   "cell_type": "markdown",
   "id": "seven-assets",
   "metadata": {},
   "source": [
    "*Do not mess with the master (the main branch ruined my pun...)*\n",
    "\n",
    "Why? The main branch should be where your stable code lives. It's supposed to be your production-ready code that you can deploy at any moment. If you want to work on a new feature or experiment with something, you branch out. Only when you're sure the code is stable should it be merged to main. \n",
    "\n",
    "For the purpose of the Prep Course, you are using your workspace repository more as a cloud *so we'll ignore the advice of people wiser than us and keep pushing to main... #rebels*"
   ]
  },
  {
   "cell_type": "markdown",
   "id": "qualified-exhibition",
   "metadata": {},
   "source": [
    "<img width=\"600\" src=\"media/13_branchs_merging_to_main.png\"/>"
   ]
  },
  {
   "cell_type": "markdown",
   "id": "sitting-hacker",
   "metadata": {},
   "source": [
    "### 2.2 Creating and switching branches\n",
    "\n",
    "To demonstrate the use of branches let's pretend we want to work on two new features:\n",
    "- **Feature A** is a list of books we want to read.\n",
    "- **Feature B** is a list of foods to try.\n",
    "\n",
    "We know better than to create these new features directly in the main branch because *Your boss will get sad and cry*. So we should create two new branches, one for each of the features.\n",
    "\n",
    "Let's first create a file with some groceries, stage and commit it in the *main* branch.\n",
    "\n",
    "![14_git_create_file_on_main_branch.png](media/14_git_create_file_on_main_branch.png)"
   ]
  },
  {
   "cell_type": "markdown",
   "id": "706d0c74-2824-4bc4-9949-d51d7c2d2cbb",
   "metadata": {},
   "source": [
    "#### 2.2.1 Feature A branch\n",
    "Let's start by creating the branch for Feature A. We'll name it **\"feature_a_books\"** and create it by using the command `git branch <branch name>`.\n",
    "\n",
    "<img width=\"500\" src=\"media/15_git_create_branch_feature_a.png\"/>\n",
    "\n",
    "So, the `git branch <branch name>` has no output and `git status` says that we're still on the main branch. *Did anything go wrong?* No! \n",
    "\n",
    "The `git branch` command just creates the branch but does not switch you to it. You continue to work in whatever branch you were in before. "
   ]
  },
  {
   "cell_type": "markdown",
   "id": "f29d69db-9547-47e6-b9ac-79e13fa704cc",
   "metadata": {},
   "source": [
    "To switch branches in git you use the command `git checkout <branch name>`. You can also list the branches with the command `git branch`. The branch identified with an `*` is the currently active one.\n",
    "\n",
    "<img width=\"500\" src=\"media/16_git_checkout_feature_a.png\"/>"
   ]
  },
  {
   "cell_type": "markdown",
   "id": "confirmed-harassment",
   "metadata": {},
   "source": [
    "#### 2.2.2 Feature B branch\n",
    "\n",
    "To create the branch for Feature B, I'll use the command `git checkout -b <branch name>`. The `-b` of the *checkout* command is very handy as it creates the branch and immediately makes it the active one. This is the most common way of creating a branch.\n",
    "\n",
    "<img width=\"500\" src=\"media/17_git_checkout_feature_b.png\"/>"
   ]
  },
  {
   "cell_type": "markdown",
   "id": "detected-college",
   "metadata": {},
   "source": [
    "Now let's create a file with some foods, stage and commit it.\n",
    "\n",
    "<img width=\"500\" src=\"media/18_git_create_and_commit_foods.png\"/>"
   ]
  },
  {
   "cell_type": "markdown",
   "id": "weird-fishing",
   "metadata": {},
   "source": [
    "#### 2.2.3 Checking the changes\n",
    "\n",
    "Let's check the commits log on each of the branches:\n",
    "\n",
    "<img width=\"550\" src=\"media/19_git_log_branches.png\"/>\n",
    "\n",
    "- *main* still the same two commits\n",
    "- *feature_a_books* has a new commit with the message \"add books to read\"\n",
    "- *feature_b_foods* has a new commit with the message \"add foods list\""
   ]
  },
  {
   "cell_type": "markdown",
   "id": "infectious-grain",
   "metadata": {},
   "source": [
    "Let's compare one final thing in the three branches: the files in each one of them. I'll list only the files with the extension `.txt` to remove some clutter from the screen.\n",
    "\n",
    "<img width=\"500\" src=\"media/20_list_files_in_branches.png\"/>\n",
    "\n",
    "- *main* has only the file `groceries.txt`\n",
    "- *feature_a_books* has the files `groceries.txt` and `books_to_read.txt`, which were added in the commit with the message \"add books to read\"\n",
    "- *feature_b_foods* has the files `groceries.txt` and `foods_to_try.txt`, which were added in the commit with the message \"add foods list\""
   ]
  },
  {
   "cell_type": "markdown",
   "id": "decreased-collapse",
   "metadata": {},
   "source": [
    "### 2.3 Pushing the branches to the remote\n",
    "\n",
    "When you're pushing a branch to the remote for the first time, you need to specify some extra options in the command. That's because the remote still doesn't know about the branch, it only exists in the local repository. Conveniently, git shows the exact syntax you should use when you `git push` a branch for the first time.\n",
    "\n",
    "*Make sure that you are on the correct branch before pushing!*\n",
    "\n",
    "<img width=\"700\" src=\"media/21_git_push_new_branch.png\"/>"
   ]
  },
  {
   "cell_type": "markdown",
   "id": "economic-seven",
   "metadata": {},
   "source": [
    "The syntax for pushing a branch that does not exist in the remote is `git push --set-upstream origin <branch name>`. After the branch is created in the remote repository, a `git push` is enough to update the remote.\n",
    "\n",
    "After pushing, we can see the branches on Github.\n",
    "\n",
    "<img width=\"1500\" src=\"media/22_github_branches.png\"/>"
   ]
  },
  {
   "cell_type": "markdown",
   "id": "august-professional",
   "metadata": {},
   "source": [
    "### 2.4 A final note on creating branches\n",
    "\n",
    "When you create a new branch, it becomes a snapshot of the branch you created it from (where you \"branched off\"). The commits you have in the current branch will be \"copied\" to the new branch. After that, all commits done to one branch or the other stay in that branch. You can create branches from the main branch or any other branch, depending on where in the project you plan to add new features."
   ]
  },
  {
   "attachments": {},
   "cell_type": "markdown",
   "id": "3f24bce0-6d89-4ed4-8a9f-51e4f649e326",
   "metadata": {},
   "source": [
    "### 2.5 Merging branches\n",
    "\n",
    "![23_git_merge_battle.gif](media/23_git_merge_battle.gif)"
   ]
  },
  {
   "cell_type": "markdown",
   "id": "demographic-soviet",
   "metadata": {},
   "source": [
    "We can't keep new features and commits in separate branches forever. We'll eventually want to integrate the changes from one branch to main (or another branch). This integration of branches is called **merging** and is done with the `git merge` command.\n",
    "\n",
    "It's very easy to perform a merge, but you must be careful to get the order of the operations correctly:\n",
    "1. You checkout to the branch that you want to merge into. Ex: if you want to merge into the main, you checkout to the main.\n",
    "2. You call `git merge` with the name of the branch you want to merge into the current brach.\n",
    "\n",
    "It's super easy to get this wrong as a beginner, so be careful!\n",
    "\n",
    "So back to our repository... This is how it looks like after we created the two feature branches:"
   ]
  },
  {
   "cell_type": "markdown",
   "id": "3637e71b-2a59-4cd6-84c3-bde06be0b911",
   "metadata": {},
   "source": [
    "![24_diagram_two_branches.png](media/24_diagram_two_branches.png)"
   ]
  },
  {
   "cell_type": "markdown",
   "id": "36690c83-56c3-4109-bc70-59cd59dc7ee7",
   "metadata": {},
   "source": [
    "We see that the *main* is still pointing to the same commit, and each one of the feature branches is pointing to the commit with the changes we made in that branch."
   ]
  },
  {
   "cell_type": "markdown",
   "id": "08a10781-7e20-478a-b7b6-fae8b2e98db4",
   "metadata": {},
   "source": [
    "#### 2.5.1 Merging *feature_a_books* branch (fast-forward)\n",
    "\n",
    "Now let's merge the branch *feature_a_books* into the *main*. To do that we run the following commands:\n",
    "\n",
    "```bash\n",
    "git checkout main\n",
    "git merge feature_a_books\n",
    "```\n",
    "\n",
    "And it should output something like:\n",
    "\n",
    "```\n",
    "Updating 52f0f1a..b17f0f8\n",
    "Fast-forward\n",
    " books_to_read.txt | 3 +++\n",
    " 1 file changed, 3 insertions(+)\n",
    " create mode 100644 books_to_read.txt\n",
    "```\n",
    "\n",
    "Notice the text *Fast-forward* above. I will explain that in a minute.\n",
    "\n",
    "`git log --oneline` should now output:\n",
    "\n",
    "```\n",
    "b17f0f8 (HEAD -> main, origin/feature_a_books, feature_a_books) add books to read\n",
    "52f0f1a (origin/main, origin/HEAD) add groceries list\n",
    "74b7996 add groceries.txt file\n",
    "4ab27a7 Initial commit\n",
    "```"
   ]
  },
  {
   "cell_type": "markdown",
   "id": "c2bd9072-b214-4ccb-a779-031397ce9137",
   "metadata": {},
   "source": [
    "Our diagram, after merging, looks like this:\n",
    "\n",
    "![25_diagram_merge_feature_a.png](media/25_diagram_merge_feature_a.png)"
   ]
  },
  {
   "cell_type": "markdown",
   "id": "f9fdacfb-921f-4513-b6ed-34164491b86f",
   "metadata": {},
   "source": [
    "You see the **fast-forward** above? Well... \n",
    "\n",
    "Do you notice how both the *main* and *feature_a_books* branches are both pointing to the commit *b17f0f8*? Git did this merge simply by adding the extra commit to the *main* branch.\n",
    "\n",
    "Since there was a linear path from the tip (latest commit) of the *main* branch to the tip of the *feature_a_books* branch, all git had to do was move the tip of *main* to the tip of *feature_a_books*. This is called a **fast-forward merge**. In other words, a fast-forward merge could happen because *main* did not have any extra commits compared to *feature_a_books*."
   ]
  },
  {
   "cell_type": "markdown",
   "id": "507f6954-4926-4f25-8fec-57a02ac3f11c",
   "metadata": {},
   "source": [
    "#### 2.5.2 Merging *feature_b_foods* branch (3-way merge)\n",
    "\n",
    "Our repository looks like this now (I removed *feature_a_books* branch for simplicity):\n",
    "\n",
    "![26_diagram_before_3_way_merge.png](media/26_diagram_before_3_way_merge.png)"
   ]
  },
  {
   "cell_type": "markdown",
   "id": "84ddafce-291b-49c1-946d-37a2a5e6f305",
   "metadata": {},
   "source": [
    "There isn't a linear path from *main* to *feature_b_books*, so a fast-forward merge will not be possible in this situation. These branches have diverged and *main* now has an extra commit that *feature_b_foods* doesn't have.\n",
    "\n",
    "Git will have to merge the branches using a **3-way merge.** This creates a new *merging commit* on the active branch to join the two branch histories.\n",
    "\n",
    "We merge the two branches with our known commands:\n",
    "\n",
    "```bash\n",
    "git checkout main\n",
    "git merge feature_b_books\n",
    "```"
   ]
  },
  {
   "cell_type": "markdown",
   "id": "c40d076f-32e7-406d-961c-5aa09559257e",
   "metadata": {},
   "source": [
    "Git will open the text editor for us to enter the commit message. It should look something like this:\n",
    "\n",
    "```bash\n",
    "Merge branch 'feature_b_foods'\n",
    "\n",
    "# Please enter a commit message to explain why this merge is necessary,\n",
    "# especially if it merges an updated upstream into a topic branch.\n",
    "#\n",
    "# Lines starting with '#' will be ignored, and an empty message aborts\n",
    "# the commit.\n",
    "```\n",
    "\n",
    "We will save it as it is and exit the text editor, and then the following should show up in the command line:\n",
    "\n",
    "```\n",
    "Merge made by the 'recursive' strategy.\n",
    " foods_to_try.txt | 2 ++\n",
    " 1 file changed, 2 insertions(+)\n",
    " create mode 100644 foods_to_try.txt\n",
    "\n",
    "```"
   ]
  },
  {
   "cell_type": "markdown",
   "id": "818a1c21-0806-4c44-8868-572cf2227b23",
   "metadata": {},
   "source": [
    "The commit and merge are complete. The resulting diagram after all the merges is:\n",
    "\n",
    "![27_diagram_merges_complete.png](media/27_diagram_merges_complete.png)\n",
    "\n",
    "A new commit (*1f0f464*) was created, and our local *main* branch is pointing to it. Notice that we did all these merges in the local repo but didn't push them to the remote yet. I'll skip that part here for the sake of brevity, but you should always do it!!"
   ]
  },
  {
   "attachments": {},
   "cell_type": "markdown",
   "id": "60c65a17-90de-4af4-b102-e4684d3c951a",
   "metadata": {},
   "source": [
    "### 2.6 Merge conflicts\n",
    "\n",
    "Sometimes things don't go so smoothly...\n",
    "\n",
    "![28_merge_conflict_is_comming.jpeg](media/28_merge_conflict_is_comming.jpeg)"
   ]
  },
  {
   "cell_type": "markdown",
   "id": "historical-relative",
   "metadata": {},
   "source": [
    "Merge conflicts are common. My hope in this section is that you understand what they are, why they happen, and some simple strategies on how to solve them.\n",
    "\n",
    "Most of the time, git will be able to merge automatically, making the necessary changes to the affected files. But there are situations where it cannot make the decisions all by itself. Examples of these situations:\n",
    "- the branches you are trying to merge have changes in the same line of the same file\n",
    "- one branch deleted a file, and the other branch made modifications to that file\n",
    "\n",
    "They all go like this: two branches edit the same content in conflicting ways."
   ]
  },
  {
   "cell_type": "markdown",
   "id": "broad-scenario",
   "metadata": {},
   "source": [
    "#### 2.6.1 Making a merge conflict\n",
    "\n",
    "I'll go ahead and make changes to my repo to force a merge conflict. No new commands here, just the usual stuff. I will create two new branches, and both will edit line 6 of the file *groceries.txt*. One branch will change it to \"- Chocolate ice-cream\" and the other to \"- Strawberry ice-cream\".\n",
    "\n",
    "```bash\n",
    "# start from the main\n",
    "git checkout main\n",
    "git checkout -b chocolate\n",
    "# edit line 6 of groceries.txt to \"- Chocolate ice-cream\"\n",
    "git add groceries.txt\n",
    "git commit -m \"change Ice-cream to Chocolate ice-cream\"\n",
    "# we want both branches to be based off the main, so we'll checkout from the main again\n",
    "git checkout main\n",
    "git checkout -b strawberry\n",
    "# edit line 6 of groceries.txt to \"- Strawberry ice-cream\"\n",
    "git add groceries.txt\n",
    "git commit -m \"change Ice-cream to Strawberry ice-cream\"\n",
    "```"
   ]
  },
  {
   "cell_type": "markdown",
   "id": "least-waterproof",
   "metadata": {},
   "source": [
    "Now let's merge the branch *chocolate* into *main*.\n",
    "\n",
    "```bash\n",
    "git checkout main\n",
    "git merge chocolate\n",
    "```\n",
    "\n",
    "It should be a fast-forward merge, without any conflict.\n",
    "\n",
    "```\n",
    "Updating 1f0f464..0666af0\n",
    "Fast-forward\n",
    " groceries.txt | 2 +-\n",
    " 1 file changed, 1 insertion(+), 1 deletion(-)\n",
    "```\n",
    "\n",
    "Now the line 6 of the file \"groceries.txt\" in the branch *main* should have \"- Chocolate ice-cream\"."
   ]
  },
  {
   "cell_type": "markdown",
   "id": "db3ec618-6681-4d28-8e2c-8a728864f80c",
   "metadata": {},
   "source": [
    "Now let's merge *strawberry* into *main*.\n",
    "\n",
    "```bash\n",
    "# you should already be in main, so no need to checkout, but you never know :)\n",
    "git checkout main\n",
    "git merge strawberry\n",
    "```\n",
    "And BAM! **Merge conflict**!"
   ]
  },
  {
   "cell_type": "markdown",
   "id": "9c2a6f49-802b-4046-935c-77e4f0ea1b12",
   "metadata": {},
   "source": [
    "<img width=\"500\" src=\"media/29_merge_conflict.jpeg\"/>"
   ]
  },
  {
   "cell_type": "markdown",
   "id": "34b717a3-3b36-4e7d-bf39-38b1bff279fe",
   "metadata": {},
   "source": [
    "```\n",
    "Auto-merging groceries.txt\n",
    "CONFLICT (content): Merge conflict in groceries.txt\n",
    "Automatic merge failed; fix conflicts and then commit the result.\n",
    "```\n",
    "A conflict happened in the file *groceries.txt*. This is because line 6 changed from \"- Ice-cream\" to \"- Chocolate ice-cream\" in the branch *main* and from \"- Ice-cream\" to \"- Strawberry ice-cream\" in the branch *strawberry*. "
   ]
  },
  {
   "attachments": {},
   "cell_type": "markdown",
   "id": "8ed32191-2e2a-4574-9b06-4e96aa5e8ea1",
   "metadata": {},
   "source": [
    "### 2.7 Solving a merge conflict\n",
    "\n",
    "There are several ways you can solve merge conflicts. We'll explain a few.\n",
    "\n",
    "#### 2.7.1 Abort the merge\n",
    "If you have no clue why the conflict is happening or are not sure which version you want to keep, abort the merge and inspect the branches to gain some clarity. You abort a merge with the command `git merge --abort`. The merge is aborted, and it all goes back to the state it was before."
   ]
  },
  {
   "cell_type": "markdown",
   "id": "traditional-interview",
   "metadata": {},
   "source": [
    "#### 2.7.2 Checkout ours\n",
    "If you know that you want to keep the *main* version of the conflicted file and ignore the incoming changes, you use the command `git checkout --ours groceries.txt`.\n",
    "\n",
    "*ours* just means the branch you're in, in this example, it's the *main*.\n",
    "\n",
    "After you do this, line 6 of the file should have \"- Chocolate ice-cream\".\n",
    "\n",
    "Note: even if you maintain your file with `checkout --ours`, you still have to commit the file for the merge to be completed."
   ]
  },
  {
   "cell_type": "markdown",
   "id": "smoking-relation",
   "metadata": {},
   "source": [
    "#### 2.7.3 Checkout theirs\n",
    "If you know that you want to keep the *strawberry* version of the conflicted file and ignore the file in the *main*, then you use the command `git checkout --theirs groceries.txt`.\n",
    "\n",
    "*theirs* just means the incoming branch, in this example, it's *strawberry*.\n",
    "\n",
    "After you do this, line 6 of the file should have \"- Strawberry ice-cream\".\n",
    "\n",
    "Finally, you have to commit the file for the merge to be completed."
   ]
  },
  {
   "cell_type": "markdown",
   "id": "63b446f6-fa9e-4b34-b27f-08c711417809",
   "metadata": {},
   "source": [
    "#### 2.7.4 Edit the conflicted file\n",
    "There are situations where you cannot simply choose *ours* or *theirs*:\n",
    "- If you are not sure what version to keep\n",
    "- want to keep both changes\n",
    "- there are multiple conflicts within the file and for some of them you want to keep `ours` and others want to keep `theirs`\n",
    "- etc.\n",
    "\n",
    "In this case you edit the conflicted file with a text editor. You should see something like this:\n",
    "\n",
    "```\n",
    "Quarantine Groceries:\n",
    "- Toilet paper\n",
    "- Popcorn\n",
    "- Coffee\n",
    "- Beer\n",
    "<<<<<<< HEAD\n",
    "- Chocolate ice-cream\n",
    "=======\n",
    "- Strawberry ice-cream\n",
    ">>>>>>> strawberry\n",
    "- Canned beans\n",
    "```"
   ]
  },
  {
   "cell_type": "markdown",
   "id": "80b957ad-9a5b-47da-ba02-e3b8f82a3bb2",
   "metadata": {},
   "source": [
    "Git annotates the conflicted file with git conflict markers, marking the areas where it needs help deciding what to do:\n",
    "- `<<<<<<< HEAD` identifies the start of the section of the current branch\n",
    "- `- Chocolate ice-cream` this is the value committed in the current branch (*main*)\n",
    "- `=======` marks the end of the changes on the current branch and the start of the changes in the incoming branch\n",
    "- `- Strawberry ice-cream` this is the value committed in the incoming branch\n",
    "- `>>>>>>> strawberry` marks the end of the changes in the incoming branch and identifies the branch\n",
    "\n",
    "You simply (ok, not always this simple) have to edit the file so that it looks exactly how you want it to. You have to get rid of the git conflict markers. We'll choose to keep both ice-creams, so our file will look like this:\n",
    "\n",
    "```\n",
    "Quarantine Groceries:\n",
    "- Toilet paper\n",
    "- Popcorn\n",
    "- Coffee\n",
    "- Beer\n",
    "- Chocolate ice-cream\n",
    "- Strawberry ice-cream\n",
    "- Canned beans\n",
    "```\n",
    "\n",
    "You then have to commit the file for the merge to be completed."
   ]
  },
  {
   "cell_type": "markdown",
   "id": "likely-grove",
   "metadata": {},
   "source": [
    "### 2.8 A note about Jupyter notebooks conflicts \n",
    "\n",
    "Although editing the file provides the most flexibility while merging, you'll find it tough to do it with Jupyter notebook files. They are long `json` files, not easily read by human eyes. You're better off keeping to the `checkout ours` or `checkout theirs` methods."
   ]
  },
  {
   "attachments": {},
   "cell_type": "markdown",
   "id": "b2ef4453-eed4-465c-a905-20f8996d5bee",
   "metadata": {},
   "source": [
    "## 3. Collaboration\n",
    "\n",
    "As stated in SLU03, Git was designed to solve the problem of multiple people working on the same code. For example, all of the learning materials are a collaborative effort between instructors and the quality assessment team to bring you the best possible source of knowledge. (*If you think I do a lot of typos... QA has full days with me!*)\n",
    "\n",
    "There are two ways to collaborate: \n",
    "- you contribute to the same repository, or \n",
    "- you work in different repositories and combine them at the end.\n",
    "\n",
    "Let's look at some things you can do to collaborate on existing code."
   ]
  },
  {
   "attachments": {},
   "cell_type": "markdown",
   "id": "d920e21e-444b-46ee-b029-ece105ecd99b",
   "metadata": {},
   "source": [
    "### 3.1 Create an issue\n",
    "\n",
    "One of the easiest ways to collaborate in a repository is through the creation of **issues**. You can use issues to track ideas, propose enhancements, or alert to bugs. They are like an email, *sort of*, associated with the remote repository.\n",
    "\n",
    "Check out our [Prep Course GitHub issue section](https://github.com/LDSSA/ds-prep-course-2025/issues). (This screenshot is from two years ago, so hopefully we already solved those issues.)\n",
    "\n",
    "<img width=\"700\" src=\"media/30_create_an_issue.png\"/> "
   ]
  },
  {
   "attachments": {},
   "cell_type": "markdown",
   "id": "2dcfcdc3-bcd4-43e6-9495-2f91743493b2",
   "metadata": {},
   "source": [
    "As you can see, you can create a new issue with the green button in the top right corner. You have to define a header and the body of the issue (where you explain what's wrong). You can assign collaborators who should work on the issue, add labels, annex files, and a lot more!\n",
    "\n",
    "A message from our Documentation Queen: \n",
    "\n",
    "    Always provide an actionable.\n",
    "\n",
    "An **actionable** is a concrete request of action - it can be a solution proposal, a feedback request, a bug fix... It does not need to be the solution, but it needs to be clear what action the assignee needs to do.\n",
    "\n",
    "Lack of clarity might get your issue closed without it being addressed! \n",
    "\n",
    "*Found a typo in the learning materials?* Open an issue! "
   ]
  },
  {
   "attachments": {},
   "cell_type": "markdown",
   "id": "f3349788-1e4c-40ce-9edb-e50b298ad204",
   "metadata": {},
   "source": [
    "### 3.2 Fork a repository\n",
    "\n",
    "If you want to contribute to an existing project to which you don’t have push access, you can **fork** the project. When you fork a project, GitHub will make a copy of the project that is entirely yours - it lives in your namespace, and you can push to it."
   ]
  },
  {
   "cell_type": "markdown",
   "id": "tired-processing",
   "metadata": {},
   "source": [
    "<img width=\"700\" src=\"media/31_git_clone_vs_git_fork.png\"/>"
   ]
  },
  {
   "attachments": {},
   "cell_type": "markdown",
   "id": "1af6a737-ff72-4db9-8aa4-cf062b1ecc67",
   "metadata": {},
   "source": [
    "To fork a project, visit the project page and click on the “Fork” button at the top-right of the page. After a few seconds, you’ll be taken to your new project page, with your own writeable copy of the code.\n",
    "\n",
    "<img width=\"150\" src=\"media/32_git_fork.png\"/>"
   ]
  },
  {
   "attachments": {},
   "cell_type": "markdown",
   "id": "9178dc48-f21c-4056-b027-ae173b6196dc",
   "metadata": {},
   "source": [
    "### 3.3 Create a pull request\n",
    "\n",
    "Above, we were merging branches just like that, but the most common way to merge branches is through **pull requests**. Pull request or PR lets you tell others about changes you've pushed to a branch in GitHub repository that you want to merge with the existing code. The PR allows your collaborators to review the proposed changes and suggest improvements. When everyone is happy with the proposed changes, the pull request is approved and your code can be merged. "
   ]
  },
  {
   "cell_type": "markdown",
   "id": "superior-phoenix",
   "metadata": {},
   "source": [
    "<img width=\"700\" src=\"media/33_pull_request.png\"/>"
   ]
  },
  {
   "cell_type": "markdown",
   "id": "black-chuck",
   "metadata": {},
   "source": [
    "A pull request can be done from a branch in the repository or from a forked repository. GitHub has a tab where you can open a PR and see all open (unmerged) PRs.\n",
    "\n",
    "<img width=\"350\" src=\"media/34_pull_request_in_remote.png\"/> "
   ]
  },
  {
   "attachments": {},
   "cell_type": "markdown",
   "id": "2a05c2f5-8909-434d-986a-ee52158a6a5f",
   "metadata": {},
   "source": [
    "### 3.4 The GitHub flow\n",
    "\n",
    "GitHub is designed around pull requests. This flow works whether you’re collaborating with a tightly-knit team in a single shared repository or a globally-distributed company or a network of strangers contributing to a project through dozens of forks.\n",
    "\n",
    "Here’s how it generally works:\n",
    "\n",
    "- Fork the project.\n",
    "\n",
    "- Create a topic branch from the main/master.\n",
    "\n",
    "- Make some commits to improve the project.\n",
    "\n",
    "- Push this branch to your GitHub project.\n",
    "\n",
    "- Open a pull request on GitHub.\n",
    "\n",
    "- Discuss and optionally continue committing.\n",
    "\n",
    "- The project owner merges or closes the pull request.\n",
    "\n",
    "- Sync the updated main/master back to your fork."
   ]
  },
  {
   "attachments": {},
   "cell_type": "markdown",
   "id": "2962f1c2-ddca-49e3-b8ba-d6810910d0cf",
   "metadata": {},
   "source": [
    "## 4. Git is love, Git is life\n",
    "\n",
    "So this was quite a lot... Git is a very complex system but at the root of it all, it's incredibly simple and that's got to be magic! Right now it looks like a lot, but remember that you've already done most of these things.\n",
    "\n",
    "The rest? It comes with practice!\n",
    "\n",
    "There are a few resources available online to help you navigate the wonderful world of version control, which will accompany you throughout the rest of the Prep Course.\n",
    "\n",
    "- https://www.atlassian.com/git/tutorials/what-is-version-control\n",
    "- https://www.git-tower.com/learn/git/ebook/en/command-line/basics/what-is-version-control#start\n",
    "\n",
    "And if you want to practice without fear of messing with local repositories, here's a good resource:\n",
    "- https://learngitbranching.js.org/?locale=en_US\n",
    "\n",
    "I hope you enjoyed these Learning Units! You're now ready to face the Exercise Notebook. \n",
    "\n",
    "And remember...."
   ]
  },
  {
   "cell_type": "markdown",
   "id": "criminal-combine",
   "metadata": {},
   "source": [
    "<img width=\"700\" src=\"media/35_in_case_of_fire.jpg\"/> "
   ]
  }
 ],
 "metadata": {
  "kernelspec": {
   "display_name": "Python 3 (ipykernel)",
   "language": "python",
   "name": "python3"
  },
  "language_info": {
   "codemirror_mode": {
    "name": "ipython",
    "version": 3
   },
   "file_extension": ".py",
   "mimetype": "text/x-python",
   "name": "python",
   "nbconvert_exporter": "python",
   "pygments_lexer": "ipython3",
   "version": "3.13.2"
  },
  "toc": {
   "base_numbering": 1,
   "nav_menu": {},
   "number_sections": true,
   "sideBar": true,
   "skip_h1_title": false,
   "title_cell": "Table of Contents",
   "title_sidebar": "Contents",
   "toc_cell": false,
   "toc_position": {},
   "toc_section_display": true,
   "toc_window_display": false
  },
  "varInspector": {
   "cols": {
    "lenName": 16,
    "lenType": 16,
    "lenVar": 40
   },
   "kernels_config": {
    "python": {
     "delete_cmd_postfix": "",
     "delete_cmd_prefix": "del ",
     "library": "var_list.py",
     "varRefreshCmd": "print(var_dic_list())"
    },
    "r": {
     "delete_cmd_postfix": ") ",
     "delete_cmd_prefix": "rm(",
     "library": "var_list.r",
     "varRefreshCmd": "cat(var_dic_list()) "
    }
   },
   "types_to_exclude": [
    "module",
    "function",
    "builtin_function_or_method",
    "instance",
    "_Feature"
   ],
   "window_display": false
  },
  "widgets": {
   "application/vnd.jupyter.widget-state+json": {
    "state": {},
    "version_major": 2,
    "version_minor": 0
   }
  }
 },
 "nbformat": 4,
 "nbformat_minor": 5
}
