{
 "cells": [
  {
   "attachments": {},
   "cell_type": "markdown",
   "id": "1a1c5890-3bae-4069-8344-ef1713b83c21",
   "metadata": {
    "deletable": false,
    "editable": false,
    "nbgrader": {
     "grade": false,
     "grade_id": "cell-1d313d186fc772db",
     "locked": true,
     "schema_version": 3,
     "solution": false,
     "task": false
    }
   },
   "source": [
    "# SLU06 - Git Intermediate\n",
    "\n",
    "I hope you enjoyed the learning notebook! Like SLU03, the Exercise Notebook is multiple choice so it's really important that you have a good grasp of everything before starting it. \n",
    "\n",
    "**Good luck!**"
   ]
  },
  {
   "cell_type": "code",
   "execution_count": 1,
   "id": "complex-variety",
   "metadata": {
    "ExecuteTime": {
     "end_time": "2023-04-03T04:46:35.664380Z",
     "start_time": "2023-04-03T04:46:35.619917Z"
    },
    "deletable": false,
    "editable": false,
    "nbgrader": {
     "grade": false,
     "grade_id": "cell-5dcb085a3b60553b",
     "locked": true,
     "schema_version": 3,
     "solution": false,
     "task": false
    }
   },
   "outputs": [],
   "source": [
    "import hashlib\n",
    "import requests"
   ]
  },
  {
   "cell_type": "markdown",
   "id": "mechanical-aerospace",
   "metadata": {
    "deletable": false,
    "editable": false,
    "nbgrader": {
     "grade": false,
     "grade_id": "cell-85683aa10c499f50",
     "locked": true,
     "schema_version": 3,
     "solution": false,
     "task": false
    }
   },
   "source": [
    "## Exercise 1: Git remotes\n",
    "\n",
    "What is the main purpose of a remote repository?\n",
    "- **A**: To serve as a backup to your local files.\n",
    "- **B**: Tracking and committing changes to your files.\n",
    "- **C**: To allow teammates to collaborate on a project.\n",
    "- **D**: See who committed what changes to a project and hunt them down."
   ]
  },
  {
   "cell_type": "code",
   "execution_count": 2,
   "id": "marine-runner",
   "metadata": {
    "ExecuteTime": {
     "end_time": "2023-04-03T04:46:35.673007Z",
     "start_time": "2023-04-03T04:46:35.667785Z"
    },
    "deletable": false,
    "nbgrader": {
     "grade": false,
     "grade_id": "cell-14d1430f3cf9833a",
     "locked": false,
     "schema_version": 3,
     "solution": true,
     "task": false
    }
   },
   "outputs": [],
   "source": [
    "# Assign the correct option letter to the variable exercise_1.\n",
    "\n",
    "# YOUR CODE HERE\n",
    "exercise_1 = \"C\"\n",
    "# exercise_1 ="
   ]
  },
  {
   "cell_type": "code",
   "execution_count": 3,
   "id": "domestic-designation",
   "metadata": {
    "ExecuteTime": {
     "end_time": "2023-04-03T04:46:35.687762Z",
     "start_time": "2023-04-03T04:46:35.680748Z"
    },
    "deletable": false,
    "editable": false,
    "nbgrader": {
     "grade": true,
     "grade_id": "cell-fccabbb7b3b73a9a",
     "locked": true,
     "points": 2,
     "schema_version": 3,
     "solution": false,
     "task": false
    }
   },
   "outputs": [],
   "source": [
    "assert isinstance(exercise_1, str), \"The variable should be a string.\"\n",
    "assert hashlib.sha256(bytes(exercise_1.upper(), encoding='utf8')).hexdigest() == \\\n",
    "'6b23c0d5f35d1b11f9b683f0b0a617355deb11277d91ae091d399c655b87940d', 'Not correct, try again.'"
   ]
  },
  {
   "cell_type": "markdown",
   "id": "progressive-flexibility",
   "metadata": {
    "deletable": false,
    "editable": false,
    "nbgrader": {
     "grade": false,
     "grade_id": "cell-a9aeab9c291f003e",
     "locked": true,
     "schema_version": 3,
     "solution": false,
     "task": false
    }
   },
   "source": [
    "## Exercise 2: Git remotes\n",
    "\n",
    "What is the function of `git push`?\n",
    "\n",
    "- **A**: Updates the remote repository with the changes made in the local repository.\n",
    "- **B**: Push all changes to the remote branch.\n",
    "- **C**: Push all changes to the main branch.\n",
    "- **D**: Updates the local repository with the changes made in the remote repository."
   ]
  },
  {
   "cell_type": "code",
   "execution_count": 4,
   "id": "aware-marble",
   "metadata": {
    "ExecuteTime": {
     "end_time": "2023-04-03T04:46:35.698317Z",
     "start_time": "2023-04-03T04:46:35.691354Z"
    },
    "deletable": false,
    "nbgrader": {
     "grade": false,
     "grade_id": "cell-349ecbd85ce6985f",
     "locked": false,
     "schema_version": 3,
     "solution": true,
     "task": false
    }
   },
   "outputs": [],
   "source": [
    "# Assign the correct option letter to the variable exercise_2.\n",
    "\n",
    "# YOUR CODE HERE\n",
    "exercise_2 = \"A\"\n",
    "# exercise_2 ="
   ]
  },
  {
   "cell_type": "code",
   "execution_count": 5,
   "id": "covered-imaging",
   "metadata": {
    "ExecuteTime": {
     "end_time": "2023-04-03T04:46:35.707422Z",
     "start_time": "2023-04-03T04:46:35.700466Z"
    },
    "deletable": false,
    "editable": false,
    "nbgrader": {
     "grade": true,
     "grade_id": "cell-dbaa29386c745914",
     "locked": true,
     "points": 2,
     "schema_version": 3,
     "solution": false,
     "task": false
    }
   },
   "outputs": [],
   "source": [
    "assert isinstance(exercise_2,str), \"The variable should be a string.\"\n",
    "assert hashlib.sha256(bytes(exercise_2.upper(), encoding='utf8')).hexdigest() == \\\n",
    "'559aead08264d5795d3909718cdd05abd49572e84fe55590eef31a88a08fdffd', 'Not correct.'"
   ]
  },
  {
   "cell_type": "markdown",
   "id": "electrical-plain",
   "metadata": {
    "deletable": false,
    "editable": false,
    "nbgrader": {
     "grade": false,
     "grade_id": "cell-7bcc368d90d896e1",
     "locked": true,
     "schema_version": 3,
     "solution": false,
     "task": false
    }
   },
   "source": [
    "## Exercise 3: Git remotes\n",
    "\n",
    "What is the function of `git clone`?\n",
    "\n",
    "- **A**: Creates a new Git repository on your local machine.\n",
    "- **B**: Creates a copy of an existing Git repository in your remote repository.\n",
    "- **C**: Creates a copy of the files in a Git repository, without any history.\n",
    "- **D**: Creates a copy of an existing Git repository on your local machine."
   ]
  },
  {
   "cell_type": "code",
   "execution_count": 6,
   "id": "visible-quebec",
   "metadata": {
    "ExecuteTime": {
     "end_time": "2023-04-03T04:46:35.722471Z",
     "start_time": "2023-04-03T04:46:35.710821Z"
    },
    "deletable": false,
    "nbgrader": {
     "grade": false,
     "grade_id": "cell-548374c265341b10",
     "locked": false,
     "schema_version": 3,
     "solution": true,
     "task": false
    }
   },
   "outputs": [],
   "source": [
    "# Assign the correct option letter to the variable exercise_3.\n",
    "\n",
    "# YOUR CODE HERE\n",
    "exercise_3 = \"D\"\n",
    "# exercise_3 ="
   ]
  },
  {
   "cell_type": "code",
   "execution_count": 7,
   "id": "white-papua",
   "metadata": {
    "ExecuteTime": {
     "end_time": "2023-04-03T04:46:35.730377Z",
     "start_time": "2023-04-03T04:46:35.725203Z"
    },
    "deletable": false,
    "editable": false,
    "nbgrader": {
     "grade": true,
     "grade_id": "cell-9bb7f9bb7974e4d7",
     "locked": true,
     "points": 4,
     "schema_version": 3,
     "solution": false,
     "task": false
    }
   },
   "outputs": [],
   "source": [
    "assert isinstance(exercise_3,str), \"The variable should be a string.\"\n",
    "assert hashlib.sha256(bytes(exercise_3.upper(), encoding='utf8')).hexdigest() == \\\n",
    "'3f39d5c348e5b79d06e842c114e6cc571583bbf44e4b0ebfda1a01ec05745d43', 'Not correct.'"
   ]
  },
  {
   "cell_type": "markdown",
   "id": "powerful-thought",
   "metadata": {
    "deletable": false,
    "editable": false,
    "nbgrader": {
     "grade": false,
     "grade_id": "cell-c082b55e237c4ea8",
     "locked": true,
     "schema_version": 3,
     "solution": false,
     "task": false
    }
   },
   "source": [
    "## Exercise 4: Git remotes\n",
    "\n",
    "Did you review how to create and clone a repository [here](https://github.com/LDSSA/ds-prep-course-2025/blob/main/docs/github.md#32-setup-your-workspace-repository)? Good!\n",
    "\n",
    "Now go to [Github](https://github.com/) and create a new repository called *SLU06* and then clone it to your machine.\n",
    "\n",
    "**Important:** Make sure you set your repository to public!\n",
    "\n",
    "It's the same thing you did when setting up the *ds-prep-workspace* repository, just with a different name. \n",
    "\n",
    "After creating the repository on GitHub, clone it to your local machine following the instructions [here](https://github.com/LDSSA/ds-prep-course-2025/blob/main/docs/github.md#33-clone-your-workspace-repository).\n",
    "\n",
    "That's it for this exercise. We will use this new repository for the remaining exercises."
   ]
  },
  {
   "cell_type": "code",
   "execution_count": 8,
   "id": "increased-orleans",
   "metadata": {
    "ExecuteTime": {
     "end_time": "2023-04-03T04:46:35.738726Z",
     "start_time": "2023-04-03T04:46:35.733147Z"
    },
    "deletable": false,
    "nbgrader": {
     "grade": false,
     "grade_id": "cell-f7886da512b156a0",
     "locked": false,
     "schema_version": 3,
     "solution": true,
     "task": false
    }
   },
   "outputs": [],
   "source": [
    "# Assign to the variable exercise_4 the URL of your SLU06 repository on GitHub, as a string.\n",
    "\n",
    "# YOUR CODE HERE\n",
    "exercise_4 = \"https://github.com/diogovmendes/SLU06.git\"\n",
    "# exercise_4 = \"\""
   ]
  },
  {
   "cell_type": "code",
   "execution_count": 9,
   "id": "stable-shipping",
   "metadata": {
    "ExecuteTime": {
     "end_time": "2023-04-03T04:46:36.579894Z",
     "start_time": "2023-04-03T04:46:35.743496Z"
    },
    "deletable": false,
    "editable": false,
    "nbgrader": {
     "grade": true,
     "grade_id": "cell-b99b518a1ed4e6d9",
     "locked": true,
     "points": 4,
     "schema_version": 3,
     "solution": false,
     "task": false
    }
   },
   "outputs": [],
   "source": [
    "assert isinstance(exercise_4, str), \"The variable should be a string.\"\n",
    "request = requests.get(exercise_4)\n",
    "assert request.status_code == 200, \"Can't find the repository! Have you set it as public?\""
   ]
  },
  {
   "cell_type": "markdown",
   "id": "reported-eight",
   "metadata": {
    "deletable": false,
    "editable": false,
    "nbgrader": {
     "grade": false,
     "grade_id": "cell-d1b590dd53743e13",
     "locked": true,
     "schema_version": 3,
     "solution": false,
     "task": false
    }
   },
   "source": [
    "## Exercise 5: Pushing changes into a remote repository\n",
    "\n",
    "Follow this workflow:\n",
    "\n",
    "1. In your **local SLU06 repository** on the main branch, create a `groceries.txt` file and add some grocery items to it.\n",
    "2. Stage and commit your changes.\n",
    "3. You just forgot the butter! Add it to your grocery list (`groceries.txt`).\n",
    "4. Stage and commit your changes (again!).\n",
    "5. Verify, by using `git status` and `git log`, that you have 2 commits in the local repository that are not in the remote repository.\n",
    "6. Push the changes to the remote repository.\n",
    "7. Verify, by using `git status` and `git log`, that your local and remote repositories are in sync.\n",
    "\n",
    "If you like, repeat the workflow with more files. You can also create new branches. The idea is to get used to the commands. You will use them a lot, so start getting that muscle memory now!"
   ]
  },
  {
   "cell_type": "markdown",
   "id": "coupled-guitar",
   "metadata": {
    "deletable": false,
    "editable": false,
    "nbgrader": {
     "grade": false,
     "grade_id": "cell-ac8b14932dc0f78b",
     "locked": true,
     "schema_version": 3,
     "solution": false,
     "task": false
    }
   },
   "source": [
    "## Exercise 6: Pulling changes from remote\n",
    "\n",
    "Now try to do the same workflow we did in the learning notebook:\n",
    "\n",
    "1. Use your browser to go to your SLU06 repository on Github (the one you created in exercise 4).\n",
    "2. Edit your `groceries.txt` file on the GitHub website - Your mum wants eggs to make a pudding! ;)\n",
    "3. Commit your changes on the website.\n",
    "4. On your local machine, check that `git status` and `git log` don't show any differences. *If you feel like it, disconnect your computer from the network and check that those commands keep working :)*\n",
    "5. Use `git remote` to check if the repositories are synced.\n",
    "6. Pull the changes from the remote into your local repository."
   ]
  },
  {
   "cell_type": "markdown",
   "id": "colored-casino",
   "metadata": {
    "deletable": false,
    "editable": false,
    "nbgrader": {
     "grade": false,
     "grade_id": "cell-65f3136f6320991a",
     "locked": true,
     "schema_version": 3,
     "solution": false,
     "task": false
    }
   },
   "source": [
    "## Exercise 7: Stash Changes\n",
    "\n",
    "Follow this workflow in your local *SLU06* repository:\n",
    "\n",
    "1. Create a new file named `winelist.txt`.\n",
    "2. Add a few wines you'd like to drink (*yey quarantine for making day drinking a thing!*).\n",
    "3. Stash the changes. Remember that stash does not save untracked files by default, so you need to use the appropriate option.\n",
    "4. Add a new item to the `groceries.txt` file (you always need a massive amount of toilet paper in a global crisis).\n",
    "5. Commit the changes.\n",
    "6. Pop the changes you have in the stash.\n",
    "7. If you're feeling like it, add a nice bottle of Moscatel to your winelist. When you're ready, commit.\n",
    "8. Check, using whatever method you like, that the local repository is 2 commits ahead of the remote repository.\n",
    "9. Push the commits to the remote repository."
   ]
  },
  {
   "cell_type": "markdown",
   "id": "positive-custody",
   "metadata": {
    "deletable": false,
    "editable": false,
    "nbgrader": {
     "grade": false,
     "grade_id": "cell-e02122ba0ef76457",
     "locked": true,
     "schema_version": 3,
     "solution": false,
     "task": false
    }
   },
   "source": [
    "## Exercise 8: Create and push branches\n",
    "\n",
    "In you local *SLU06* repository, follow this workflow:\n",
    "\n",
    "1. Create a new branch based on `main`. Name it \"ubereats\".\n",
    "2. In the new branch create a new file `restaurants_to_try.txt` and add some content to it.\n",
    "3. Commit the changes and push the branch to the remote.\n",
    "4. Check on GitHub that the branch is there.\n",
    "5. Create another branch based on `main`. Name it \"movies\".\n",
    "6. In the new branch, create a file called `movies_to_watch` and add some content to it.\n",
    "7. Commit the changes and push the branch to the remote.\n",
    "8. Check on GitHub that the branch is there."
   ]
  },
  {
   "cell_type": "markdown",
   "id": "victorian-conspiracy",
   "metadata": {
    "deletable": false,
    "editable": false,
    "nbgrader": {
     "grade": false,
     "grade_id": "cell-94425cb939bc44ed",
     "locked": true,
     "schema_version": 3,
     "solution": false,
     "task": false
    }
   },
   "source": [
    "## Exercise 9: Merging branches\n",
    "\n",
    "Follow this workflow in your local *SLU06* repository. I'm leaving out a lot of step-by-step instructions in this exercise and the next one. Remember that the learning notebook is your friend.\n",
    "\n",
    "1. Merge the *ubereats* branch you created in exercise 8 into *main*. Verify that it was a *fast-forward* merge.\n",
    "2. Merge the *movies* branch to the main. This one should be a *3-way merge*.\n",
    "3. Push main to the remote.\n",
    "4. Bonus: Do a Google search on how to delete a branch and delete the branches you created, both in the local and remote repositories."
   ]
  },
  {
   "attachments": {},
   "cell_type": "markdown",
   "id": "02b9169d-4086-4dcb-a622-a43521a8566e",
   "metadata": {
    "deletable": false,
    "editable": false,
    "nbgrader": {
     "grade": false,
     "grade_id": "cell-0c9b91d0396e5051",
     "locked": true,
     "schema_version": 3,
     "solution": false,
     "task": false
    }
   },
   "source": [
    "**Well, the moment of truth has arrived...**\n",
    "\n",
    "<img width=\"400\" src=\"media/michael-scott.jpeg\"/>"
   ]
  },
  {
   "cell_type": "markdown",
   "id": "fb5bdb13",
   "metadata": {
    "deletable": false,
    "editable": false,
    "nbgrader": {
     "grade": false,
     "grade_id": "cell-662638764ac06ba6",
     "locked": true,
     "schema_version": 3,
     "solution": false,
     "task": false
    }
   },
   "source": [
    "Were you able to do exercises 5-9?\n",
    "\n",
    "- **A**: No, I've been stuck on this for more than an hour! I need to ask for help on Slack!\n",
    "- **B**: Yes, I did it!\n",
    "\n",
    "Really, take your time :) enjoy, learn, discover all these new things... but don't get frustrated!!! If you have any questions or are stuck somewhere, go to the Week04 slack channel and tell us what difficulties you are having, we will be happy to help you. <333"
   ]
  },
  {
   "cell_type": "code",
   "execution_count": 10,
   "id": "85def3aa",
   "metadata": {
    "ExecuteTime": {
     "end_time": "2023-04-03T04:46:36.589305Z",
     "start_time": "2023-04-03T04:46:36.583150Z"
    },
    "deletable": false,
    "nbgrader": {
     "grade": false,
     "grade_id": "cell-e8b4366001176c3a",
     "locked": false,
     "schema_version": 3,
     "solution": true,
     "task": false
    }
   },
   "outputs": [],
   "source": [
    "# Assign the correct option letter to the variable exercise_5_9.\n",
    "\n",
    "# YOUR CODE HERE\n",
    "exercise_5_9 = \"B\"\n",
    "# exercise_5_9 ="
   ]
  },
  {
   "cell_type": "code",
   "execution_count": 11,
   "id": "64df54dd",
   "metadata": {
    "ExecuteTime": {
     "end_time": "2023-04-03T04:46:36.608592Z",
     "start_time": "2023-04-03T04:46:36.593469Z"
    },
    "deletable": false,
    "editable": false,
    "nbgrader": {
     "grade": true,
     "grade_id": "cell-d479dadee005a917",
     "locked": true,
     "points": 0,
     "schema_version": 3,
     "solution": false,
     "task": false
    }
   },
   "outputs": [],
   "source": [
    "assert isinstance(exercise_5_9, str), \"The variable should be a string.\"\n",
    "assert hashlib.sha256(bytes(exercise_5_9.upper(), encoding='utf8')).hexdigest() == \\\n",
    "'df7e70e5021544f4834bbee64a9e3789febc4be81470df629cad6ddb03320a5c', \"Please ask for help on Slack!\""
   ]
  },
  {
   "cell_type": "markdown",
   "id": "adequate-linux",
   "metadata": {
    "deletable": false,
    "editable": false,
    "nbgrader": {
     "grade": false,
     "grade_id": "cell-a9b76135bb7c29bc",
     "locked": true,
     "schema_version": 3,
     "solution": false,
     "task": false
    }
   },
   "source": [
    "## Exercise 10: Collaboration on Git\n",
    "\n",
    "From the following statements about pull requests and branches, select the one that is false.\n",
    "\n",
    "- **A**: A branch is just a separate version of the code.\n",
    "- **B**: A pull request is when someone who has been working on a project branch wants to merge their work into another branch and requests a code review before doing it.  \n",
    "- **C**: You can only do pull requests to the main branch, but you can branch from any other branch, including the main.\n",
    "- **D**: A pull request lets the project maintainer know that an update is ready to be integrated."
   ]
  },
  {
   "cell_type": "code",
   "execution_count": 12,
   "id": "injured-boards",
   "metadata": {
    "ExecuteTime": {
     "end_time": "2023-04-03T04:46:36.617405Z",
     "start_time": "2023-04-03T04:46:36.610870Z"
    },
    "deletable": false,
    "nbgrader": {
     "grade": false,
     "grade_id": "cell-4fc49f4aad340d87",
     "locked": false,
     "schema_version": 3,
     "solution": true,
     "task": false
    }
   },
   "outputs": [],
   "source": [
    "# Assign the correct option letter to the variable exercise_10.\n",
    "\n",
    "# YOUR CODE HERE\n",
    "exercise_10 = \"c\"\n",
    "# exercise_10 ="
   ]
  },
  {
   "cell_type": "code",
   "execution_count": 13,
   "id": "anonymous-solomon",
   "metadata": {
    "ExecuteTime": {
     "end_time": "2023-04-03T04:46:36.626914Z",
     "start_time": "2023-04-03T04:46:36.619631Z"
    },
    "deletable": false,
    "editable": false,
    "nbgrader": {
     "grade": true,
     "grade_id": "cell-813abdc5b03ac7ce",
     "locked": true,
     "points": 4,
     "schema_version": 3,
     "solution": false,
     "task": false
    }
   },
   "outputs": [],
   "source": [
    "assert isinstance(exercise_10, str), \"The variable should be a string.\"\n",
    "assert hashlib.sha256(bytes(exercise_10.upper(), encoding='utf8')).hexdigest() == \\\n",
    "'6b23c0d5f35d1b11f9b683f0b0a617355deb11277d91ae091d399c655b87940d', \"Not correct.\""
   ]
  },
  {
   "cell_type": "markdown",
   "id": "turned-degree",
   "metadata": {
    "deletable": false,
    "editable": false,
    "nbgrader": {
     "grade": false,
     "grade_id": "cell-7bc711f11c08d619",
     "locked": true,
     "schema_version": 3,
     "solution": false,
     "task": false
    }
   },
   "source": [
    "## Exercise 11: Merge conflicts\n",
    "\n",
    "From the following statements about merge conflicts, select the one that is false.\n",
    "\n",
    "- **A**: You can abort the merge and discard the alterations that are in conflict.\n",
    "- **B**: You can edit the files to fix the conflicting changes and then add the resolved files by running `git add`, followed by `git commit`. \n",
    "- **C**: You can choose what version you want to keep of the two conflicting branches.\n",
    "- **D**: After a conflict is created, you cannot go back to your previous state."
   ]
  },
  {
   "cell_type": "code",
   "execution_count": 14,
   "id": "underlying-belgium",
   "metadata": {
    "ExecuteTime": {
     "end_time": "2023-04-03T04:46:36.635689Z",
     "start_time": "2023-04-03T04:46:36.628993Z"
    },
    "deletable": false,
    "nbgrader": {
     "grade": false,
     "grade_id": "cell-bb2837e739fc4c32",
     "locked": false,
     "schema_version": 3,
     "solution": true,
     "task": false
    }
   },
   "outputs": [],
   "source": [
    "# Assign the correct option letter to the variable exercise_11.\n",
    "\n",
    "# YOUR CODE HERE\n",
    "exercise_11 = \"D\"\n",
    "# exercise_11 ="
   ]
  },
  {
   "cell_type": "code",
   "execution_count": 15,
   "id": "professional-humor",
   "metadata": {
    "ExecuteTime": {
     "end_time": "2023-04-03T04:46:36.644668Z",
     "start_time": "2023-04-03T04:46:36.637722Z"
    },
    "deletable": false,
    "editable": false,
    "nbgrader": {
     "grade": true,
     "grade_id": "cell-9e36d4171ea208f0",
     "locked": true,
     "points": 4,
     "schema_version": 3,
     "solution": false,
     "task": false
    }
   },
   "outputs": [],
   "source": [
    "assert isinstance(exercise_11, str), \"The variable should be a string.\"\n",
    "assert hashlib.sha256(bytes(exercise_11.upper(), encoding='utf8')).hexdigest() == \\\n",
    "'3f39d5c348e5b79d06e842c114e6cc571583bbf44e4b0ebfda1a01ec05745d43', \"Not correct.\""
   ]
  },
  {
   "cell_type": "markdown",
   "id": "generous-composer",
   "metadata": {
    "deletable": false,
    "editable": false,
    "nbgrader": {
     "grade": false,
     "grade_id": "cell-b12657a1dd631925",
     "locked": true,
     "schema_version": 3,
     "solution": false,
     "task": false
    }
   },
   "source": [
    "Now you're ready to make the most out of Git! You'll be using it throughout the rest of the Prep Course so it's important that you two become good friends!\n",
    "\n",
    "Keep the git workflow in your heart, and use it whenever you find a typo in the learning materials! I'll give you a golden star for it! :D"
   ]
  },
  {
   "cell_type": "markdown",
   "id": "aerial-wrist",
   "metadata": {
    "deletable": false,
    "editable": false,
    "nbgrader": {
     "grade": false,
     "grade_id": "cell-858917d5e414bac6",
     "locked": true,
     "schema_version": 3,
     "solution": false,
     "task": false
    }
   },
   "source": [
    "# Submit your work!\n",
    "\n",
    "To submit your work, follow the instructions in step 3 in [section 1.3](https://github.com/LDSSA/ds-prep-course-2025/blob/main/docs/weekly-workflow.md) of the weekfly workflow."
   ]
  }
 ],
 "metadata": {
  "kernelspec": {
   "display_name": "Python 3 (ipykernel)",
   "language": "python",
   "name": "python3"
  },
  "language_info": {
   "codemirror_mode": {
    "name": "ipython",
    "version": 3
   },
   "file_extension": ".py",
   "mimetype": "text/x-python",
   "name": "python",
   "nbconvert_exporter": "python",
   "pygments_lexer": "ipython3",
   "version": "3.13.2"
  },
  "toc": {
   "base_numbering": 1,
   "nav_menu": {},
   "number_sections": true,
   "sideBar": true,
   "skip_h1_title": false,
   "title_cell": "Table of Contents",
   "title_sidebar": "Contents",
   "toc_cell": false,
   "toc_position": {},
   "toc_section_display": true,
   "toc_window_display": false
  },
  "varInspector": {
   "cols": {
    "lenName": 16,
    "lenType": 16,
    "lenVar": 40
   },
   "kernels_config": {
    "python": {
     "delete_cmd_postfix": "",
     "delete_cmd_prefix": "del ",
     "library": "var_list.py",
     "varRefreshCmd": "print(var_dic_list())"
    },
    "r": {
     "delete_cmd_postfix": ") ",
     "delete_cmd_prefix": "rm(",
     "library": "var_list.r",
     "varRefreshCmd": "cat(var_dic_list()) "
    }
   },
   "types_to_exclude": [
    "module",
    "function",
    "builtin_function_or_method",
    "instance",
    "_Feature"
   ],
   "window_display": false
  },
  "widgets": {
   "application/vnd.jupyter.widget-state+json": {
    "state": {},
    "version_major": 2,
    "version_minor": 0
   }
  }
 },
 "nbformat": 4,
 "nbformat_minor": 5
}
