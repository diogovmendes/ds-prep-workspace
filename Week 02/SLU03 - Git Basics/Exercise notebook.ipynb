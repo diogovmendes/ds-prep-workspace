{
 "cells": [
  {
   "cell_type": "markdown",
   "metadata": {
    "deletable": false,
    "editable": false,
    "nbgrader": {
     "grade": false,
     "grade_id": "cell-16e440e81833d63d",
     "locked": true,
     "schema_version": 3,
     "solution": false,
     "task": false
    }
   },
   "source": [
    "# SLU03 - Git Basics - Exercise notebook"
   ]
  },
  {
   "cell_type": "code",
   "execution_count": null,
   "metadata": {
    "deletable": false,
    "editable": false,
    "nbgrader": {
     "grade": false,
     "grade_id": "cell-dc5157610f08c40c",
     "locked": true,
     "schema_version": 3,
     "solution": false,
     "task": false
    }
   },
   "outputs": [],
   "source": [
    "# Import for evaluating the results.\n",
    "import hashlib"
   ]
  },
  {
   "cell_type": "markdown",
   "metadata": {
    "deletable": false,
    "editable": false,
    "nbgrader": {
     "grade": false,
     "grade_id": "cell-1165b8abaa4337cb",
     "locked": true,
     "schema_version": 3,
     "solution": false,
     "task": false
    }
   },
   "source": [
    "I hope you enjoyed the Learning Notebook! The Exercise Notebook is multiple choice so it's really important that you have a good grasp of everything before starting it. \n",
    "\n",
    "Always assign the letter of the correct option to the answer variable, e.g. `exercise_0 = 'A'`.\n",
    "\n",
    "Good luck!"
   ]
  },
  {
   "cell_type": "markdown",
   "metadata": {},
   "source": [
    "## Exercise 0: Stage your changes\n",
    "This exercise is ungraded. It's purpose it to prepare the terrain for exercise 10.\n",
    "\n",
    "- On the root of your Prep Course **workspace** repository, `ds-prep-workspace`, run the `git add .` command to stage everything.\n",
    "- Run the `git status` command.\n",
    "- Check the output, you should see that all files are in the staging area."
   ]
  },
  {
   "cell_type": "markdown",
   "metadata": {
    "deletable": false,
    "editable": false,
    "nbgrader": {
     "grade": false,
     "grade_id": "cell-18adf46dc292aa49",
     "locked": true,
     "schema_version": 3,
     "solution": false,
     "task": false
    }
   },
   "source": [
    "## Exercise 1: Version Control\n",
    "What is the main feature of a VCS?\n",
    "\n",
    "**A.** Tracking of changes to files in a given location.\n",
    "\n",
    "**B.** Public sharing of files in a remote repository.\n",
    "\n",
    "**C.** Uploading files to GitHub.\n",
    "\n",
    "**D.** It contains a README file."
   ]
  },
  {
   "cell_type": "code",
   "execution_count": null,
   "metadata": {
    "deletable": false,
    "nbgrader": {
     "grade": false,
     "grade_id": "cell-0ad663f9cf9def82",
     "locked": false,
     "schema_version": 3,
     "solution": true,
     "task": false
    }
   },
   "outputs": [],
   "source": [
    "# Assign the correct option letter to the variable exercise_1.\n",
    "\n",
    "# YOUR CODE HERE\n",
    "raise NotImplementedError()\n",
    "# exercise_1 = "
   ]
  },
  {
   "cell_type": "code",
   "execution_count": null,
   "metadata": {
    "deletable": false,
    "editable": false,
    "nbgrader": {
     "grade": true,
     "grade_id": "cell-28da65d304eb76f9",
     "locked": true,
     "points": 2,
     "schema_version": 3,
     "solution": false,
     "task": false
    }
   },
   "outputs": [],
   "source": [
    "options = [\"A\", \"B\", \"C\", \"D\"]\n",
    "assert isinstance(exercise_1,str), \"The variable should be a string.\"\n",
    "assert exercise_1.upper() in options, \"Please choose one of these options: %s\" % ', '.join(str(opt) for opt in options)\n",
    "assert hashlib.sha256(bytes(exercise_1.upper(), encoding='utf8')).hexdigest() == \\\n",
    "\"559aead08264d5795d3909718cdd05abd49572e84fe55590eef31a88a08fdffd\", \"Not correct, try again.\""
   ]
  },
  {
   "cell_type": "markdown",
   "metadata": {
    "deletable": false,
    "editable": false,
    "nbgrader": {
     "grade": false,
     "grade_id": "cell-8d31b2ef5260c1ed",
     "locked": true,
     "schema_version": 3,
     "solution": false,
     "task": false
    }
   },
   "source": [
    "## Exercise 2: Git\n",
    "\n",
    "Which one of the following statements is false: \n",
    "\n",
    "**A.** Git is a decentralized version control tool.\n",
    "\n",
    "**B.** Users can clone entire repositories to their local systems.\n",
    "\n",
    "**C.** Commits are possible even if offline.\n",
    "\n",
    "**D.** Committing a file automatically uploads it to the remote repository."
   ]
  },
  {
   "cell_type": "code",
   "execution_count": null,
   "metadata": {
    "deletable": false,
    "nbgrader": {
     "grade": false,
     "grade_id": "cell-71db91f1c18eebb3",
     "locked": false,
     "schema_version": 3,
     "solution": true,
     "task": false
    }
   },
   "outputs": [],
   "source": [
    "# Assign the correct option letter to the variable exercise_2.\n",
    "\n",
    "# YOUR CODE HERE\n",
    "raise NotImplementedError()\n",
    "# exercise_2 ="
   ]
  },
  {
   "cell_type": "code",
   "execution_count": null,
   "metadata": {
    "deletable": false,
    "editable": false,
    "nbgrader": {
     "grade": true,
     "grade_id": "cell-ad5700b91f015868",
     "locked": true,
     "points": 2,
     "schema_version": 3,
     "solution": false,
     "task": false
    }
   },
   "outputs": [],
   "source": [
    "assert isinstance(exercise_2,str), \"The variable should be a string.\"\n",
    "assert hashlib.sha256(bytes(exercise_2.upper(), encoding='utf8')).hexdigest() == \\\n",
    "\"3f39d5c348e5b79d06e842c114e6cc571583bbf44e4b0ebfda1a01ec05745d43\", \"Not correct.\""
   ]
  },
  {
   "cell_type": "markdown",
   "metadata": {
    "deletable": false,
    "editable": false,
    "nbgrader": {
     "grade": false,
     "grade_id": "cell-b9394719a711a961",
     "locked": true,
     "schema_version": 3,
     "solution": false,
     "task": false
    }
   },
   "source": [
    "## Exercise 3: Staging\n",
    "Which of the following statements is true:\n",
    "\n",
    "**A.** You can only have one file staged at a time.\n",
    "\n",
    "**B.** You can only stage files after a commit.\n",
    "\n",
    "**C.** The staging area is an intermediate storage for changes that will be part of the next commit.\n",
    "\n",
    "**D.** All files are added to the staging area automatically."
   ]
  },
  {
   "cell_type": "code",
   "execution_count": null,
   "metadata": {
    "deletable": false,
    "nbgrader": {
     "grade": false,
     "grade_id": "cell-e9c408d24e570684",
     "locked": false,
     "schema_version": 3,
     "solution": true,
     "task": false
    }
   },
   "outputs": [],
   "source": [
    "# Assign the correct option letter to the variable exercise_3.\n",
    "\n",
    "# YOUR CODE HERE\n",
    "raise NotImplementedError()\n",
    "# exercise_3 ="
   ]
  },
  {
   "cell_type": "code",
   "execution_count": null,
   "metadata": {
    "deletable": false,
    "editable": false,
    "nbgrader": {
     "grade": true,
     "grade_id": "cell-6a4c40061538306a",
     "locked": true,
     "points": 2,
     "schema_version": 3,
     "solution": false,
     "task": false
    }
   },
   "outputs": [],
   "source": [
    "assert isinstance(exercise_3,str), \"The variable should be a string.\"\n",
    "assert hashlib.sha256(bytes(exercise_3.upper(), encoding='utf8')).hexdigest() == \\\n",
    "\"6b23c0d5f35d1b11f9b683f0b0a617355deb11277d91ae091d399c655b87940d\", \"Not correct.\""
   ]
  },
  {
   "cell_type": "markdown",
   "metadata": {
    "deletable": false,
    "editable": false,
    "nbgrader": {
     "grade": false,
     "grade_id": "cell-351c5ca4035ca15a",
     "locked": true,
     "schema_version": 3,
     "solution": false,
     "task": false
    }
   },
   "source": [
    "## Exercise 4: Git add\n",
    "\n",
    "Which command should you use when you want to stage all pdf files in the workspace?\n",
    "\n",
    "**A.** `git add --all`\n",
    "\n",
    "**B.** `git add .`\n",
    "\n",
    "**C.** `git add *.pdf`"
   ]
  },
  {
   "cell_type": "code",
   "execution_count": null,
   "metadata": {
    "deletable": false,
    "nbgrader": {
     "grade": false,
     "grade_id": "cell-ebcecd4226f1dce6",
     "locked": false,
     "schema_version": 3,
     "solution": true,
     "task": false
    }
   },
   "outputs": [],
   "source": [
    "# Assign the correct option letter to the variable exercise_4.\n",
    "\n",
    "# YOUR CODE HERE\n",
    "raise NotImplementedError()\n",
    "# exercise_4 ="
   ]
  },
  {
   "cell_type": "code",
   "execution_count": null,
   "metadata": {
    "deletable": false,
    "editable": false,
    "nbgrader": {
     "grade": true,
     "grade_id": "cell-df39aeb2d728fcd8",
     "locked": true,
     "points": 2,
     "schema_version": 3,
     "solution": false,
     "task": false
    }
   },
   "outputs": [],
   "source": [
    "assert isinstance(exercise_4,str), \"The variable should be a string.\"\n",
    "assert hashlib.sha256(bytes(exercise_4.upper(), encoding='utf8')).hexdigest() == \\\n",
    "\"6b23c0d5f35d1b11f9b683f0b0a617355deb11277d91ae091d399c655b87940d\", \"Not correct.\""
   ]
  },
  {
   "cell_type": "markdown",
   "metadata": {
    "deletable": false,
    "editable": false,
    "nbgrader": {
     "grade": false,
     "grade_id": "cell-48903a752de39be7",
     "locked": true,
     "schema_version": 3,
     "solution": false,
     "task": false
    }
   },
   "source": [
    "## Exercise 5: Git add and Git commit\n",
    "\n",
    "What is the function of the commands `git add .`, `git commit`, and `git commit -a`?\n",
    "\n",
    "**A.** The first stages all files in the repo, the second commits all staged files in the repo, and the last stages and commits all changed files.\n",
    "\n",
    "**B.** The first stages all files that start with a dot, the second commits all staged files in the repo, and the last stages and commits all changed files.\n",
    "\n",
    "**C.** The first stages all files in the repo, the second commits all modified files in the repo, and the last stages and commits all changed files."
   ]
  },
  {
   "cell_type": "code",
   "execution_count": null,
   "metadata": {
    "deletable": false,
    "nbgrader": {
     "grade": false,
     "grade_id": "cell-c696448a0429c1f8",
     "locked": false,
     "schema_version": 3,
     "solution": true,
     "task": false
    }
   },
   "outputs": [],
   "source": [
    "# Assign the correct option letter to the variable exercise_5.\n",
    "\n",
    "# YOUR CODE HERE\n",
    "raise NotImplementedError()\n",
    "# exercise_5 ="
   ]
  },
  {
   "cell_type": "code",
   "execution_count": null,
   "metadata": {
    "deletable": false,
    "editable": false,
    "nbgrader": {
     "grade": true,
     "grade_id": "cell-aff7a12614986551",
     "locked": true,
     "points": 2,
     "schema_version": 3,
     "solution": false,
     "task": false
    }
   },
   "outputs": [],
   "source": [
    "assert isinstance(exercise_5,str), \"The variable should be a string.\"\n",
    "assert hashlib.sha256(bytes(exercise_5.upper(), encoding='utf8')).hexdigest() == \\\n",
    "\"559aead08264d5795d3909718cdd05abd49572e84fe55590eef31a88a08fdffd\", \"Not correct.\""
   ]
  },
  {
   "cell_type": "markdown",
   "metadata": {
    "deletable": false,
    "editable": false,
    "nbgrader": {
     "grade": false,
     "grade_id": "cell-e1bf329c0f0e5eb4",
     "locked": true,
     "schema_version": 3,
     "solution": false,
     "task": false
    }
   },
   "source": [
    "## Exercise 6: Git status\n",
    "\n",
    "In a workspace with five tracked files and a clean staging area, a new file is created. Additionally, one of the tracked files is changed. What would the `git status` command show?\n",
    "\n",
    "**A.** Staged: 1, Modified: 1, Untracked: 0\n",
    "\n",
    "**B.** Staged: 0, Modified: 1, Untracked: 1\n",
    "\n",
    "**C.** Staged: 5, Modified: 1, Untracked: 1\n",
    "\n",
    "**D.** Staged: 5, Modified: 0, Untracked: 1"
   ]
  },
  {
   "cell_type": "code",
   "execution_count": null,
   "metadata": {
    "deletable": false,
    "nbgrader": {
     "grade": false,
     "grade_id": "cell-ad3eb1b9f7256b3d",
     "locked": false,
     "schema_version": 3,
     "solution": true,
     "task": false
    }
   },
   "outputs": [],
   "source": [
    "# Assign the correct option letter to the variable exercise_6.\n",
    "\n",
    "# YOUR CODE HERE\n",
    "raise NotImplementedError()\n",
    "# exercise_6 ="
   ]
  },
  {
   "cell_type": "code",
   "execution_count": null,
   "metadata": {
    "deletable": false,
    "editable": false,
    "nbgrader": {
     "grade": true,
     "grade_id": "cell-c266b16ef62872b4",
     "locked": true,
     "points": 3,
     "schema_version": 3,
     "solution": false,
     "task": false
    }
   },
   "outputs": [],
   "source": [
    "assert isinstance(exercise_6,str), \"The variable should be a string.\"\n",
    "assert hashlib.sha256(bytes(exercise_6.upper(), encoding='utf8')).hexdigest() == \\\n",
    "\"df7e70e5021544f4834bbee64a9e3789febc4be81470df629cad6ddb03320a5c\", \"Not correct.\""
   ]
  },
  {
   "cell_type": "markdown",
   "metadata": {
    "deletable": false,
    "editable": false,
    "nbgrader": {
     "grade": false,
     "grade_id": "cell-853b67aad78be720",
     "locked": true,
     "schema_version": 3,
     "solution": false,
     "task": false
    }
   },
   "source": [
    "## Exercise 7: .gitignore\n",
    "\n",
    "Which one of the following statements is true: \n",
    "\n",
    "**A.** You can stage a file that is listed in .gitignore if you add it explicitly with the `git add` command.\n",
    "\n",
    "**B.** You can't ignore the .gitignore file itself.\n",
    "\n",
    "**C.** You can use patterns, such as wildcards, in the .gitignore."
   ]
  },
  {
   "cell_type": "code",
   "execution_count": null,
   "metadata": {
    "deletable": false,
    "nbgrader": {
     "grade": false,
     "grade_id": "cell-ce41a1f975fae767",
     "locked": false,
     "schema_version": 3,
     "solution": true,
     "task": false
    }
   },
   "outputs": [],
   "source": [
    "# Assign the correct option letter to the variable exercise_7.\n",
    "\n",
    "# YOUR CODE HERE\n",
    "raise NotImplementedError()\n",
    "# exercise_7 ="
   ]
  },
  {
   "cell_type": "code",
   "execution_count": null,
   "metadata": {
    "deletable": false,
    "editable": false,
    "nbgrader": {
     "grade": true,
     "grade_id": "cell-3dc6db0d118d1a92",
     "locked": true,
     "points": 2,
     "schema_version": 3,
     "solution": false,
     "task": false
    }
   },
   "outputs": [],
   "source": [
    "assert isinstance(exercise_7,str), \"The variable should be a string.\"\n",
    "assert hashlib.sha256(bytes(exercise_7.upper(), encoding='utf8')).hexdigest() == \\\n",
    "'6b23c0d5f35d1b11f9b683f0b0a617355deb11277d91ae091d399c655b87940d', \"Not correct.\""
   ]
  },
  {
   "cell_type": "markdown",
   "metadata": {
    "deletable": false,
    "editable": false,
    "nbgrader": {
     "grade": false,
     "grade_id": "cell-baa375374f69aece",
     "locked": true,
     "schema_version": 3,
     "solution": false,
     "task": false
    }
   },
   "source": [
    "## Exercise 8: git push\n",
    "\n",
    "What would happen if you tried to push changes to a remote repository that is ahead on commits compared to your local repository?\n",
    "\n",
    "**A.** The remote repository will handle everything like magic.\n",
    "\n",
    "**B.** The remote repository will throw an error because versions don't match.\n",
    "\n",
    "**C.** The remote repository will throw an error because the remote repository is ahead on commits."
   ]
  },
  {
   "cell_type": "code",
   "execution_count": null,
   "metadata": {
    "deletable": false,
    "nbgrader": {
     "grade": false,
     "grade_id": "cell-d8e48506ae23cd8e",
     "locked": false,
     "schema_version": 3,
     "solution": true,
     "task": false
    }
   },
   "outputs": [],
   "source": [
    "# Assign the correct option letter to the variable exercise_8.\n",
    "\n",
    "# YOUR CODE HERE\n",
    "raise NotImplementedError()\n",
    "# exercise_8 ="
   ]
  },
  {
   "cell_type": "code",
   "execution_count": null,
   "metadata": {
    "deletable": false,
    "editable": false,
    "nbgrader": {
     "grade": true,
     "grade_id": "cell-808483824d7e116a",
     "locked": true,
     "points": 3,
     "schema_version": 3,
     "solution": false,
     "task": false
    }
   },
   "outputs": [],
   "source": [
    "assert isinstance(exercise_8,str), \"The variable should be a string.\"\n",
    "assert hashlib.sha256(bytes(exercise_8.upper(), encoding='utf8')).hexdigest() == \\\n",
    "\"6b23c0d5f35d1b11f9b683f0b0a617355deb11277d91ae091d399c655b87940d\", \"Not correct.\""
   ]
  },
  {
   "cell_type": "markdown",
   "metadata": {
    "deletable": false,
    "editable": false,
    "nbgrader": {
     "grade": false,
     "grade_id": "cell-8125c52ba71c79f1",
     "locked": true,
     "schema_version": 3,
     "solution": false,
     "task": false
    }
   },
   "source": [
    "## Exercise 9: Make commits useful\n",
    "\n",
    "You have been working in your workspace for some time and you have developed code for two new features in two different folders, `feature_a/` and `feature_b/`. While testing the new features, you have created multiple output files in the `temp\\` folder. You don't want to push these output files to the remote repo, but you also don't want to include them in the `.gitignore` because they are temporary. What is the best way to commit these changes?\n",
    "\n",
    "**A.** `git commit -a -m \"Add features a & b\"`\n",
    "\n",
    "**B.** `git add feature_a feature_b && git commit -m \"Add features a & b\"`\n",
    "\n",
    "**C.** `git add feature_a && git commit -m \"Add feature a\"` and then `git add feature_b && git commit -m \"Add feature b\"`"
   ]
  },
  {
   "cell_type": "code",
   "execution_count": null,
   "metadata": {
    "deletable": false,
    "nbgrader": {
     "grade": false,
     "grade_id": "cell-d476eee500a7b97e",
     "locked": false,
     "schema_version": 3,
     "solution": true,
     "task": false
    }
   },
   "outputs": [],
   "source": [
    "# Assign the correct option letter to the variable exercise_9.\n",
    "\n",
    "# YOUR CODE HERE\n",
    "raise NotImplementedError()\n",
    "# exercise_9 ="
   ]
  },
  {
   "cell_type": "code",
   "execution_count": null,
   "metadata": {
    "deletable": false,
    "editable": false,
    "nbgrader": {
     "grade": true,
     "grade_id": "cell-785cbbadef9d4f49",
     "locked": true,
     "points": 2,
     "schema_version": 3,
     "solution": false,
     "task": false
    }
   },
   "outputs": [],
   "source": [
    "assert isinstance(exercise_9,str), \"The variable should be a string.\"\n",
    "assert hashlib.sha256(bytes(exercise_9.upper(), encoding='utf8')).hexdigest() == \\\n",
    "\"6b23c0d5f35d1b11f9b683f0b0a617355deb11277d91ae091d399c655b87940d\", \"Not correct.\""
   ]
  },
  {
   "cell_type": "markdown",
   "metadata": {
    "deletable": false,
    "editable": false,
    "nbgrader": {
     "grade": false,
     "grade_id": "cell-4fe45bdf473660d3",
     "locked": true,
     "schema_version": 3,
     "solution": false,
     "task": false
    }
   },
   "source": [
    "## Exercise 10: Git Workflow\n",
    "This exercise is ungraded. It's for you to see how some git commands work and have fun with it! Follow the set of instructions below:\n",
    "\n",
    "- Save this file.\n",
    "- On the root of your Prep Course repository, run the `git status` command.\n",
    "- Check the output, you should see that the Exercise Notebook file is modified.\n",
    "- Run the `git add` command to add **just** the Exercise Notebook file.\n",
    "- Run the `git commit` command with the option that allows you to write the commit message in the command. Write the following message: \"I've harnessed the power of git!\"."
   ]
  },
  {
   "cell_type": "markdown",
   "metadata": {
    "deletable": false,
    "editable": false,
    "nbgrader": {
     "grade": false,
     "grade_id": "cell-5c3a47c5e39032eb",
     "locked": true,
     "schema_version": 3,
     "solution": false,
     "task": false
    }
   },
   "source": [
    "Congratulations! You've just finished the first steps of your journey into the wonderful world of version control! These skills will accompany you for the rest of the Prep Course (and maybe life ;) ), so make good use of them! \n",
    "\n",
    "More Git fun follows in SLU06."
   ]
  },
  {
   "cell_type": "markdown",
   "metadata": {
    "deletable": false,
    "editable": false,
    "nbgrader": {
     "grade": false,
     "grade_id": "cell-037868f54a4878e0",
     "locked": true,
     "schema_version": 3,
     "solution": false,
     "task": false
    }
   },
   "source": [
    "# Submit your work!\n",
    "\n",
    "To submit your work, follow the steps in [section 1.3](https://github.com/LDSSA/ds-prep-course-2025/blob/main/docs/weekly-workflow.md#13-work-on-the-learning-units) of the weekly workflow, starting from the step 3 \"Grading the Exercise Notebook\"!"
   ]
  }
 ],
 "metadata": {
  "kernelspec": {
   "display_name": "Python 3 (ipykernel)",
   "language": "python",
   "name": "python3"
  },
  "language_info": {
   "codemirror_mode": {
    "name": "ipython",
    "version": 3
   },
   "file_extension": ".py",
   "mimetype": "text/x-python",
   "name": "python",
   "nbconvert_exporter": "python",
   "pygments_lexer": "ipython3",
   "version": "3.13.2"
  }
 },
 "nbformat": 4,
 "nbformat_minor": 4
}
