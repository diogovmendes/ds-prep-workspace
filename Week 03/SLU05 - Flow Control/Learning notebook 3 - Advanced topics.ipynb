{
 "cells": [
  {
   "cell_type": "markdown",
   "metadata": {},
   "source": [
    "# SLU05 - Flow Control Learning Notebook 2: Comprehensions\n",
    "\n",
    "In this notebook, we'll explore a few more tricks you can do with conditions and loops. If you are a complete beginner, you can skip this notebook for now and come back to it later."
   ]
  },
  {
   "attachments": {},
   "cell_type": "markdown",
   "metadata": {},
   "source": [
    "## 1. More operators for creating conditions\n",
    "\n",
    "### 1.1 Membership operators\n",
    "\n",
    "You have already met membership operators in SLU04. With **membership operators**, we can test if a value is present or absent in a list, tuple, dictionary or even a string! \n",
    "\n",
    "Imagine that you have a recipe and you want to test if it contains a certain ingredient. With the comparison operators it would be necessary to compare each ingredient to the one that you want. **Membership operators** simplify this process by answering the question \"Is this ingredient **in** the recipe?\"\n",
    "\n",
    "For lists and tuples, the `in` membership operator tests if the left value is a member of the right sequence. "
   ]
  },
  {
   "cell_type": "code",
   "execution_count": 1,
   "metadata": {},
   "outputs": [
    {
     "name": "stdout",
     "output_type": "stream",
     "text": [
      "True\n",
      "False\n"
     ]
    }
   ],
   "source": [
    "print(1 in [1, 2, 3])\n",
    "\n",
    "print(\"Chocolate\" in (\"Milk\", \"Flour\", \"Eggs\"))"
   ]
  },
  {
   "cell_type": "markdown",
   "metadata": {},
   "source": [
    "You can also confirm if a list is a member of another list. The left list must be integrally a member of the second list. Even if both lists have the same values, if the values are not exactly in the same order, the first list is not considered to be a member of the second list."
   ]
  },
  {
   "cell_type": "code",
   "execution_count": 2,
   "metadata": {},
   "outputs": [
    {
     "name": "stdout",
     "output_type": "stream",
     "text": [
      "False\n",
      "True\n"
     ]
    }
   ],
   "source": [
    "#Even though Eggs and Milk are present in right list, \n",
    "#the in operator is specifically searching for the list [\"Eggs\", \"Milk\"]\n",
    "#which is not a member of the right list.\n",
    "print([\"Eggs\", \"Milk\"] in [[\"Chocolate\", \"Flour\"], [\"Milk\", \"Eggs\"]])\n",
    "\n",
    "#Now the element [\"Milk\", \"Eggs\"]\n",
    "print([\"Milk\", \"Eggs\"] in [[\"Chocolate\", \"Flour\"], [\"Milk\", \"Eggs\"]])"
   ]
  },
  {
   "cell_type": "markdown",
   "metadata": {},
   "source": [
    "For **dictionaries**, the `in` operator tests if the left value is one of the dictionary **keys**."
   ]
  },
  {
   "cell_type": "code",
   "execution_count": 3,
   "metadata": {},
   "outputs": [
    {
     "data": {
      "text/plain": [
       "True"
      ]
     },
     "execution_count": 3,
     "metadata": {},
     "output_type": "execute_result"
    }
   ],
   "source": [
    "\"Milk\" in {\"Chocolate\":2, \"Milk\":2, \"Eggs\":6}"
   ]
  },
  {
   "cell_type": "code",
   "execution_count": 4,
   "metadata": {},
   "outputs": [
    {
     "data": {
      "text/plain": [
       "False"
      ]
     },
     "execution_count": 4,
     "metadata": {},
     "output_type": "execute_result"
    }
   ],
   "source": [
    "\"Flour\" in {\"Chocolate\":2, \"Milk\":2, \"Eggs\":6}"
   ]
  },
  {
   "cell_type": "markdown",
   "metadata": {},
   "source": [
    "The `in` operator does not look in dictionary values:"
   ]
  },
  {
   "cell_type": "code",
   "execution_count": 5,
   "metadata": {},
   "outputs": [
    {
     "data": {
      "text/plain": [
       "False"
      ]
     },
     "execution_count": 5,
     "metadata": {},
     "output_type": "execute_result"
    }
   ],
   "source": [
    "2 in {\"Chocolate\":2, \"Milk\":2, \"Eggs\":6}"
   ]
  },
  {
   "cell_type": "markdown",
   "metadata": {},
   "source": [
    "For **strings**, the `in` operator verifies if a substring exists within another string. It might exist multiple times in the same string. It only matters that it appears at least once."
   ]
  },
  {
   "cell_type": "code",
   "execution_count": 6,
   "metadata": {},
   "outputs": [
    {
     "data": {
      "text/plain": [
       "True"
      ]
     },
     "execution_count": 6,
     "metadata": {},
     "output_type": "execute_result"
    }
   ],
   "source": [
    "\"ana\" in \"Banana\""
   ]
  },
  {
   "cell_type": "markdown",
   "metadata": {},
   "source": [
    "Of course, the substring has to be found exactly as specified because the `in` operator is case-sensitive. (remember \"A\" is diferent from \"a\")"
   ]
  },
  {
   "cell_type": "code",
   "execution_count": 13,
   "metadata": {},
   "outputs": [
    {
     "data": {
      "text/plain": [
       "False"
      ]
     },
     "execution_count": 13,
     "metadata": {},
     "output_type": "execute_result"
    }
   ],
   "source": [
    "\"Ana\" in \"Banana\""
   ]
  },
  {
   "cell_type": "markdown",
   "metadata": {},
   "source": [
    "## 1.2 Identity operators\n",
    "\n",
    "The operator `is` [compares the identity of two objects](https://docs.python.org/3/reference/expressions.html#is) checks whether two things are actually the same thing in memory and not just whether they look the same.\n",
    "\n",
    "To understand this, Python gives every variable an unique ID using the `id()` function.\n",
    "If two variables have the same ID, they point to the exact same thing and `is` returns `True`.\n",
    "If the IDs are different, is returns `False`.\n",
    "\n",
    "The `is not` operator does the opposite: it returns `True` when two variables do not point to the same thing in memory.\n",
    "\n",
    "We can test this with a small example:"
   ]
  },
  {
   "cell_type": "code",
   "execution_count": 11,
   "metadata": {},
   "outputs": [
    {
     "name": "stdout",
     "output_type": "stream",
     "text": [
      "ID of a: 1695221612784\n",
      "ID of b: 1695221612784\n",
      "a is b: True\n"
     ]
    }
   ],
   "source": [
    "a = 1\n",
    "b = a\n",
    "print(\"ID of a:\", id(a))\n",
    "print(\"ID of b:\", id(b))\n",
    "\n",
    "print(\"a is b:\",a is b)"
   ]
  },
  {
   "cell_type": "markdown",
   "metadata": {},
   "source": [
    "`a` and `b` are the same in this example because we assigned one to the other.\n",
    "\n",
    "In the example below, we see that a copy of `a` has another identity:"
   ]
  },
  {
   "cell_type": "code",
   "execution_count": 12,
   "metadata": {},
   "outputs": [
    {
     "name": "stdout",
     "output_type": "stream",
     "text": [
      "ID of a_list: 1695302455040\n",
      "ID of b_list: 1695302455040\n",
      "ID of c_list: 1695302454720\n",
      "a_list is b_list: True\n",
      "a_list is c_list: False\n"
     ]
    }
   ],
   "source": [
    "a_list = [1,2,3]\n",
    "b_list = a_list\n",
    "c_list = a_list.copy()\n",
    "print(\"ID of a_list:\", id(a_list))\n",
    "print(\"ID of b_list:\", id(b_list))\n",
    "print(\"ID of c_list:\", id(c_list))\n",
    "\n",
    "print(\"a_list is b_list:\",a_list is b_list)\n",
    "print(\"a_list is c_list:\",a_list is c_list)"
   ]
  },
  {
   "cell_type": "markdown",
   "metadata": {},
   "source": [
    "The `is` operator has an important role when comparing with the `None` value. Always use the `is` operator and [never equality operators](https://www.python.org/dev/peps/pep-0008/#programming-recommendations) when comparing with `None`. \n",
    "\n",
    "When checking if something is `None`, always use the `is` operator and not `==`.\n",
    "\n",
    "This is the recommended way in Python because `None` is a special value that represents “nothing,” and we want to check if a variable is exactly that specific thing, not just something that looks like it.\n",
    "\n",
    "So, write this:"
   ]
  },
  {
   "cell_type": "code",
   "execution_count": 8,
   "metadata": {},
   "outputs": [
    {
     "name": "stdout",
     "output_type": "stream",
     "text": [
      "This is True\n",
      "nothing should be None\n",
      "So nothing is None\n"
     ]
    }
   ],
   "source": [
    "nothing = None\n",
    "\n",
    "print(f\"This is {nothing is None}\")\n",
    "\n",
    "if nothing is None:\n",
    "    print(f\"nothing should be {nothing}\")\n",
    "\n",
    "if nothing is not None:\n",
    "    print(\"will print nothing\")\n",
    "else: print(\"So nothing is None\")\n"
   ]
  },
  {
   "attachments": {},
   "cell_type": "markdown",
   "metadata": {},
   "source": [
    "## 2. Building lists with List comprehension\n",
    "\n",
    "Earlier in this unit, we saw how to build a list using a loop. For example, to make a list of the first 10 square numbers, we could do this:"
   ]
  },
  {
   "cell_type": "code",
   "execution_count": 11,
   "metadata": {},
   "outputs": [
    {
     "data": {
      "text/plain": [
       "[0, 1, 4, 9, 16, 25, 36, 49, 64, 81]"
      ]
     },
     "execution_count": 11,
     "metadata": {},
     "output_type": "execute_result"
    }
   ],
   "source": [
    "new_list = []\n",
    "for i in range(10):\n",
    "    new_list.append(i ** 2)\n",
    "new_list"
   ]
  },
  {
   "cell_type": "markdown",
   "metadata": {},
   "source": [
    "That works just fine, but Python programmers like to keep things short and simple. So Python offers a faster way to create lists using something called list comprehension. [Python Docs – List Comprehensions](https://docs.python.org/3/tutorial/datastructures.html#list-comprehensions)\n",
    "\n",
    "List comprehension lets you create a new list in a single line, based on a loop. The basic structure of a list comprehension looks like this: <pre> ```[new_value for item in some_list if item > 0]  ``` </pre>\n",
    "\n",
    "You can also add `if` conditions or extra loops, but we’ll stick to simple examples for now.\n",
    "\n",
    "Here’s how it looks:"
   ]
  },
  {
   "cell_type": "code",
   "execution_count": 12,
   "metadata": {},
   "outputs": [
    {
     "data": {
      "text/plain": [
       "[0, 1, 4, 9, 16, 25, 36, 49, 64, 81]"
      ]
     },
     "execution_count": 12,
     "metadata": {},
     "output_type": "execute_result"
    }
   ],
   "source": [
    "comprehension_list = [i ** 2 for i in range(10)]\n",
    "comprehension_list"
   ]
  },
  {
   "cell_type": "markdown",
   "metadata": {},
   "source": [
    "Look how many characters we saved by using *list comprehension*! List comprehensions can save time and space, but if your code becomes too long or hard to read, it’s better to stick with the regular for loop. Always choose the version that is easier to understand."
   ]
  },
  {
   "attachments": {},
   "cell_type": "markdown",
   "metadata": {},
   "source": [
    "### 2.1 Multiple `for` loops in List comprehension\n",
    "\n",
    "We can also use **multiple** `for` loops in a list comprehension. This is useful when you want to combine or iterate over **multiple sequences**.\n",
    "\n",
    "For example, if we want to calculate the **area of rectangles** based on a list of widths and heights, we can do this:"
   ]
  },
  {
   "cell_type": "code",
   "execution_count": 14,
   "metadata": {},
   "outputs": [
    {
     "name": "stdout",
     "output_type": "stream",
     "text": [
      "[8, 10, 12, 15]\n"
     ]
    }
   ],
   "source": [
    "widths = [2, 3]\n",
    "heights = [4, 5]\n",
    "\n",
    "areas = [w * h for w in widths for h in heights]\n",
    "\n",
    "print(areas)"
   ]
  },
  {
   "cell_type": "markdown",
   "metadata": {},
   "source": [
    "As you can see, Python goes through each `w` in widths, and for each one, goes through each `h` in heights."
   ]
  },
  {
   "cell_type": "code",
   "execution_count": 15,
   "metadata": {},
   "outputs": [
    {
     "data": {
      "text/plain": [
       "[1, 2, 3, 4, 2, 4, 6, 8, 3, 6, 9, 12]"
      ]
     },
     "execution_count": 15,
     "metadata": {},
     "output_type": "execute_result"
    }
   ],
   "source": [
    "#Squares are also rectangles.\n",
    "[height * width for height in range(1,4) for width in range(1,5)]"
   ]
  },
  {
   "cell_type": "markdown",
   "metadata": {},
   "source": [
    "This syntax is equivalent to two nested loops. The first loop is the *outer loop* and the second loop is the *inner loop*."
   ]
  },
  {
   "attachments": {},
   "cell_type": "markdown",
   "metadata": {},
   "source": [
    "### 2.2 `if` statement\n",
    "\n",
    "The `if` statement in *list comprehension* filters the elements that are used in the list. If the condition is `True` then the iteration is processed as usual. But if the condition is `False` that iteration is ignored, similarly to `continue`."
   ]
  },
  {
   "cell_type": "code",
   "execution_count": 16,
   "metadata": {},
   "outputs": [
    {
     "data": {
      "text/plain": [
       "[0, 2, 4, 6, 8, 10, 12, 14]"
      ]
     },
     "execution_count": 16,
     "metadata": {},
     "output_type": "execute_result"
    }
   ],
   "source": [
    "[i for i in range(15) if i % 2 == 0]"
   ]
  },
  {
   "attachments": {},
   "cell_type": "markdown",
   "metadata": {},
   "source": [
    "In the example above, only the elements that are divisible by 2 are iterated and subsequently introduced in the list.\n",
    "\n",
    "If more than one `if` statement is used, **all conditions must be satisfied** for the iteration to be used. This is equivalent to using `and` to combine the conditions together."
   ]
  },
  {
   "cell_type": "code",
   "execution_count": 1,
   "metadata": {},
   "outputs": [
    {
     "data": {
      "text/plain": [
       "[0, 6, 12]"
      ]
     },
     "execution_count": 1,
     "metadata": {},
     "output_type": "execute_result"
    }
   ],
   "source": [
    "[i for i in range(15) if i%2 == 0 if i%3 == 0]"
   ]
  },
  {
   "cell_type": "markdown",
   "metadata": {},
   "source": [
    "This builds a list of numbers divisible by both 2 and 3."
   ]
  },
  {
   "cell_type": "code",
   "execution_count": 2,
   "metadata": {},
   "outputs": [
    {
     "data": {
      "text/plain": [
       "[0, 6, 12]"
      ]
     },
     "execution_count": 2,
     "metadata": {},
     "output_type": "execute_result"
    }
   ],
   "source": [
    "[i for i in range(15) if i%2 == 0 and i%3 == 0]"
   ]
  },
  {
   "attachments": {},
   "cell_type": "markdown",
   "metadata": {},
   "source": [
    "### 2.3 Nested list comprehensions\n",
    "\n",
    "Just like we can nest loops inside each other, we can also [nest](https://docs.python.org/3.11/tutorial/datastructures.html#nested-list-comprehensions) list comprehensions. This means putting one list comprehension inside another.\n",
    "\n",
    "However, nested list comprehensions might not behave exactly as you expect, so take a moment to understand them step by step.\n",
    "\n",
    "Let’s start with a simple example:"
   ]
  },
  {
   "cell_type": "code",
   "execution_count": 3,
   "metadata": {},
   "outputs": [
    {
     "data": {
      "text/plain": [
       "['0', '1', '2', '3', '4']"
      ]
     },
     "execution_count": 3,
     "metadata": {},
     "output_type": "execute_result"
    }
   ],
   "source": [
    "[str(number) for number in range(5)]"
   ]
  },
  {
   "cell_type": "markdown",
   "metadata": {},
   "source": [
    "We created a list of strings, each representing an integer value. Now, let’s see what happens when we wrap that in an outer list comprehension:"
   ]
  },
  {
   "cell_type": "code",
   "execution_count": 4,
   "metadata": {},
   "outputs": [
    {
     "data": {
      "text/plain": [
       "[[0, 0, 0], [0, 1, 2], [0, 2, 4]]"
      ]
     },
     "execution_count": 4,
     "metadata": {},
     "output_type": "execute_result"
    }
   ],
   "source": [
    "[[i * j for j in range(3)] for i in range(3)]"
   ]
  },
  {
   "cell_type": "markdown",
   "metadata": {},
   "source": [
    "### Why?\n",
    "\n",
    "For every `i` in `range(3)` → `[0, 1, 2]`\n",
    "\n",
    "We build a list where we multiply `i * j` for every `j` in `range(3)`\n",
    "\n",
    "So we get:\n",
    "\n",
    "- For `i = 0`: `[0*0, 0*1, 0*2]` → `[0, 0, 0]`\n",
    "- For `i = 1`: `[1*0, 1*1, 1*2]` → `[0, 1, 2]`\n",
    "- For `i = 2`: `[2*0, 2*1, 2*2]` → `[0, 2, 4]`\n",
    "\n",
    "---\n",
    "\n",
    "Nested list comprehensions are powerful, but they can become hard to read if overused.  \n",
    "Use them when it improves clarity — otherwise, regular `for` loops might be better.\n"
   ]
  },
  {
   "cell_type": "code",
   "execution_count": 5,
   "metadata": {},
   "outputs": [
    {
     "data": {
      "text/plain": [
       "[['0', '1', '2', '3', '4'],\n",
       " ['0', '1', '2', '3', '4'],\n",
       " ['0', '1', '2', '3', '4']]"
      ]
     },
     "execution_count": 5,
     "metadata": {},
     "output_type": "execute_result"
    }
   ],
   "source": [
    "[[str(number) for number in range(5)] for letter in [\"A\", \"B\", \"C\"]]"
   ]
  },
  {
   "cell_type": "markdown",
   "metadata": {},
   "source": [
    "The original list is repeated 3 times because the **outer loop** is executed 3 times.\n",
    "To make it more evident we are including the letters in the string:"
   ]
  },
  {
   "cell_type": "code",
   "execution_count": 6,
   "metadata": {},
   "outputs": [
    {
     "data": {
      "text/plain": [
       "[['A0', 'A1', 'A2', 'A3', 'A4'],\n",
       " ['B0', 'B1', 'B2', 'B3', 'B4'],\n",
       " ['C0', 'C1', 'C2', 'C3', 'C4']]"
      ]
     },
     "execution_count": 6,
     "metadata": {},
     "output_type": "execute_result"
    }
   ],
   "source": [
    "[[letter + str(number) for number in range(5)] for letter in [\"A\", \"B\", \"C\"]]"
   ]
  },
  {
   "cell_type": "markdown",
   "metadata": {},
   "source": [
    "After the inner loop has been completely iterated, the next value of the outer loop is iterated. This repeats until the outer loop has no more elements to iterate.\n",
    "The result is that for each value of `letter`, a list of length 5 is created. The elements of these lists are calculated depending on the condition of the inner loop.\n",
    "\n",
    "This is a way to build [matrices](https://en.wikipedia.org/wiki/Matrix_(mathematics)) that you'll get to know in SLU12 and SLU13.\n",
    "\n",
    "This syntax also corresponds to nested loops, but additionally, we use nested lists, unlike in section 2.1. Compare the above code with:"
   ]
  },
  {
   "cell_type": "code",
   "execution_count": 7,
   "metadata": {},
   "outputs": [
    {
     "data": {
      "text/plain": [
       "['A0',\n",
       " 'B0',\n",
       " 'C0',\n",
       " 'A1',\n",
       " 'B1',\n",
       " 'C1',\n",
       " 'A2',\n",
       " 'B2',\n",
       " 'C2',\n",
       " 'A3',\n",
       " 'B3',\n",
       " 'C3',\n",
       " 'A4',\n",
       " 'B4',\n",
       " 'C4']"
      ]
     },
     "execution_count": 7,
     "metadata": {},
     "output_type": "execute_result"
    }
   ],
   "source": [
    "[letter + str(number) for number in range(5) for letter in [\"A\", \"B\", \"C\"]]"
   ]
  },
  {
   "attachments": {},
   "cell_type": "markdown",
   "metadata": {},
   "source": [
    "### 2.4 Dictionary comprehension\n",
    "\n",
    "After the implementation of *list comprehensions* in Python, [dictionary comprehensions](https://www.python.org/dev/peps/pep-0274/) were introduced, a similar feature was added for dictionaries: **dictionary comprehensions**.\n",
    "\n",
    "They allow you to create dictionaries in a compact and readable way.\n",
    "\n",
    "The basic structure of a *dictionary comprehension* can be written as:\n",
    "\n",
    "```python\n",
    "{expression_key : expression_value for control_variable in iterable}\n",
    "```\n",
    "\n",
    "A *dictionary comprehension* is enclosed in curly brackets `{}` and has the following components:\n",
    "- An expression for the `keys`;\n",
    "- A colon `:`;\n",
    "- An expresion for the `values`;\n",
    "- a `for` clause with a control variable and iterable (which includes the `in` keyword);\n",
    "- any number of `for` and `if` clauses (optional);\n",
    "\n",
    "Below are a few examples:\n",
    "\n",
    "Generating a dictionary with the power of integers:"
   ]
  },
  {
   "cell_type": "code",
   "execution_count": 8,
   "metadata": {},
   "outputs": [
    {
     "data": {
      "text/plain": [
       "{'0': 0,\n",
       " '1': 1,\n",
       " '2': 4,\n",
       " '3': 9,\n",
       " '4': 16,\n",
       " '5': 25,\n",
       " '6': 36,\n",
       " '7': 49,\n",
       " '8': 64,\n",
       " '9': 81}"
      ]
     },
     "execution_count": 8,
     "metadata": {},
     "output_type": "execute_result"
    }
   ],
   "source": [
    "{str(base): base ** 2 for base in range(10)}"
   ]
  },
  {
   "cell_type": "markdown",
   "metadata": {},
   "source": [
    "Extracting the values of a dictionary and filtering out the ones that don't fulfill a condition:"
   ]
  },
  {
   "cell_type": "code",
   "execution_count": 9,
   "metadata": {},
   "outputs": [
    {
     "data": {
      "text/plain": [
       "{'Portugal': 'Portuguese', 'Brazil': 'Portuguese'}"
      ]
     },
     "execution_count": 9,
     "metadata": {},
     "output_type": "execute_result"
    }
   ],
   "source": [
    "language_country_dict = {\"Portugal\": \"Portuguese\", \"France\": \"French\", \"England\": \"English\", \n",
    "                         \"Brazil\": \"Portuguese\"}\n",
    "{country : language for country, language in language_country_dict.items() if language == \"Portuguese\"}"
   ]
  },
  {
   "attachments": {},
   "cell_type": "markdown",
   "metadata": {},
   "source": [
    "### 2.5 Further reading\n",
    "\n",
    "[Programiz on list comprehension](https://www.programiz.com/python-programming/list-comprehension)\n",
    "\n",
    "[GeeksforGeeks list comprehension](https://www.geeksforgeeks.org/comprehensions-in-python/)\n",
    "\n",
    "[Python documentation on list comprehension](https://docs.python.org/3.7/tutorial/datastructures.html#list-comprehensions)"
   ]
  },
  {
   "attachments": {},
   "cell_type": "markdown",
   "metadata": {},
   "source": [
    "## 3. The `else` clause in loops\n",
    "\n",
    "An obscure statement that can be used with loops is the `else` statement. The `else` statement behaves **differently** in a loop than in an`if` statement.\n",
    "The code indented after the `else` statement is executed after the loop **even if the loop's body was not executed.**"
   ]
  },
  {
   "cell_type": "code",
   "execution_count": 10,
   "metadata": {},
   "outputs": [
    {
     "name": "stdout",
     "output_type": "stream",
     "text": [
      "1\n",
      "2\n",
      "3\n",
      "4\n",
      "5\n",
      "After else: 6\n"
     ]
    }
   ],
   "source": [
    "i = 1\n",
    "while i < 6:\n",
    "    print(i)\n",
    "    i += 1\n",
    "else:\n",
    "    print(\"After else:\",i)"
   ]
  },
  {
   "cell_type": "markdown",
   "metadata": {},
   "source": [
    "The `while` loop iterates until the condition is no longer `True`. After that, the `else` statement is executed. Notice that the value of `print(\"After else:\",i)` was incremented by one compared with the last iteration of the `print()` inside the loop.\n",
    "\n",
    "If the condition is initially `False`, the `else` statement is still executed."
   ]
  },
  {
   "cell_type": "code",
   "execution_count": 11,
   "metadata": {},
   "outputs": [
    {
     "name": "stdout",
     "output_type": "stream",
     "text": [
      "Last Iteration: 1\n"
     ]
    }
   ],
   "source": [
    "i = 1\n",
    "while i > 6:\n",
    "    print(i)\n",
    "    i += 1\n",
    "else:\n",
    "    print(\"Last Iteration:\",i)"
   ]
  },
  {
   "cell_type": "markdown",
   "metadata": {},
   "source": [
    "If you use the `break` statement the `else` statement **is not executed**."
   ]
  },
  {
   "cell_type": "code",
   "execution_count": 12,
   "metadata": {},
   "outputs": [
    {
     "name": "stdout",
     "output_type": "stream",
     "text": [
      "1\n",
      "2\n",
      "3\n",
      "4\n",
      "5\n"
     ]
    }
   ],
   "source": [
    "i = 1\n",
    "while True:\n",
    "    print(i)\n",
    "    i += 1\n",
    "    if i == 6:\n",
    "        break\n",
    "    \n",
    "else:\n",
    "    print(\"Last Iteration:\",i)"
   ]
  },
  {
   "cell_type": "markdown",
   "metadata": {},
   "source": [
    "We can also use the `else` statement with `for` loops."
   ]
  },
  {
   "cell_type": "code",
   "execution_count": 13,
   "metadata": {},
   "outputs": [
    {
     "name": "stdout",
     "output_type": "stream",
     "text": [
      "1\n",
      "2\n",
      "3\n",
      "4\n",
      "5\n",
      "Last Iteration: 5\n"
     ]
    }
   ],
   "source": [
    "for i in range(1,6):\n",
    "    print(i)\n",
    "else:\n",
    "    print(\"Last Iteration:\",i)"
   ]
  },
  {
   "cell_type": "markdown",
   "metadata": {},
   "source": [
    "Notice that the value of `print(\"After else:\",i)` is equal to the last iteration of the `print()` inside the loop."
   ]
  },
  {
   "attachments": {},
   "cell_type": "markdown",
   "metadata": {},
   "source": [
    "## 3. The Fibonacci sequence\n",
    "\n",
    "With everything that we learned in the notebook we can write code to solve most problems under the Sun. We can't explore all capabilities of every statement, otherwise we'll be here until cows bark. That is why you should explore other resources to discover further features and use cases.\n",
    "\n",
    "Let’s wrap things up with a classic problem: calculating the [Fibonacci sequence](https://en.wikipedia.org/wiki/Fibonacci_number)!\n",
    "\n",
    "The Fibonacci sequence starts with 0 and 1. Every number after that is the sum of the two previous numbers;  $F_0 = 0, F_1 = 1$ and $F_n = F_{n-1} + F_{n-2}$ for $n>1$.\n",
    "\n",
    "So it looks like this: `0, 1, 1, 2, 3, 5, 8, 13, 21, 34, ...`\n",
    "\n",
    "We'll write a *Fibonacci sequence* with `fib_len` number of members."
   ]
  },
  {
   "cell_type": "code",
   "execution_count": 14,
   "metadata": {},
   "outputs": [
    {
     "name": "stdout",
     "output_type": "stream",
     "text": [
      "[0, 1, 1, 2, 3, 5, 8, 13, 21, 34, 55, 89, 144]\n"
     ]
    }
   ],
   "source": [
    "fib_len = 13\n",
    "fib_sequence = []\n",
    "\n",
    "for position in range(fib_len):\n",
    "    \n",
    "    if position == 0:\n",
    "        fib_sequence.append(0)\n",
    "\n",
    "    elif position == 1:\n",
    "        fib_sequence.append(1)\n",
    "    \n",
    "    else:\n",
    "        fib_sequence.append(fib_sequence[position-1] + fib_sequence[position-2])\n",
    "\n",
    "print(fib_sequence)"
   ]
  },
  {
   "attachments": {},
   "cell_type": "markdown",
   "metadata": {},
   "source": [
    "Initially, `position` has value 0. This means that the `if` statement is executed, and thus the first element is 0.\n",
    "Next, `position` has value 1. The `elif` statement is executed, and the second element is assigned as 1.\n",
    "Now `position` has value 2. Because it is greater than 1 and 0, the `else` statement is executed. The new element, which will have index 2, will have the sum of the two previous elements of index 0 and 1. This will repeat for the subsequent iterations.\n",
    "\n",
    "You can use this method (or other similar) to calculate the next element of a sequence based on the value of previous elements. I wonder if this will come in handy during the exercises... 🤔"
   ]
  }
 ],
 "metadata": {
  "kernelspec": {
   "display_name": ".venv",
   "language": "python",
   "name": "python3"
  },
  "language_info": {
   "codemirror_mode": {
    "name": "ipython",
    "version": 3
   },
   "file_extension": ".py",
   "mimetype": "text/x-python",
   "name": "python",
   "nbconvert_exporter": "python",
   "pygments_lexer": "ipython3",
   "version": "3.10.11"
  }
 },
 "nbformat": 4,
 "nbformat_minor": 4
}
